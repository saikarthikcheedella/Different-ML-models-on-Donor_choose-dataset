{
  "nbformat": 4,
  "nbformat_minor": 0,
  "metadata": {
    "colab": {
      "name": "7_DonorsChoose_SVM.ipynb",
      "provenance": [],
      "collapsed_sections": [],
      "toc_visible": true,
      "machine_shape": "hm"
    },
    "kernelspec": {
      "display_name": "Python 3",
      "language": "python",
      "name": "python3"
    }
  },
  "cells": [
    {
      "cell_type": "markdown",
      "metadata": {
        "id": "33R7Ev5IoUFw",
        "colab_type": "text"
      },
      "source": [
        "# DonorsChoose"
      ]
    },
    {
      "cell_type": "markdown",
      "metadata": {
        "id": "33uDdN2EoUFz",
        "colab_type": "text"
      },
      "source": [
        "<p>\n",
        "DonorsChoose.org receives hundreds of thousands of project proposals each year for classroom projects in need of funding. Right now, a large number of volunteers is needed to manually screen each submission before it's approved to be posted on the DonorsChoose.org website.\n",
        "</p>\n",
        "<p>\n",
        "    Next year, DonorsChoose.org expects to receive close to 500,000 project proposals. As a result, there are three main problems they need to solve:\n",
        "<ul>\n",
        "<li>\n",
        "    How to scale current manual processes and resources to screen 500,000 projects so that they can be posted as quickly and as efficiently as possible</li>\n",
        "    <li>How to increase the consistency of project vetting across different volunteers to improve the experience for teachers</li>\n",
        "    <li>How to focus volunteer time on the applications that need the most assistance</li>\n",
        "    </ul>\n",
        "</p>    \n",
        "<p>\n",
        "The goal of the competition is to predict whether or not a DonorsChoose.org project proposal submitted by a teacher will be approved, using the text of project descriptions as well as additional metadata about the project, teacher, and school. DonorsChoose.org can then use this information to identify projects most likely to need further review before approval.\n",
        "</p>"
      ]
    },
    {
      "cell_type": "markdown",
      "metadata": {
        "id": "W447mRzLoUF2",
        "colab_type": "text"
      },
      "source": [
        "## About the DonorsChoose Data Set\n",
        "\n",
        "The `train.csv` data set provided by DonorsChoose contains the following features:\n",
        "\n",
        "Feature | Description \n",
        "----------|---------------\n",
        "**`project_id`** | A unique identifier for the proposed project. **Example:** `p036502`   \n",
        "**`project_title`**    | Title of the project. **Examples:**<br><ul><li><code>Art Will Make You Happy!</code></li><li><code>First Grade Fun</code></li></ul> \n",
        "**`project_grade_category`** | Grade level of students for which the project is targeted. One of the following enumerated values: <br/><ul><li><code>Grades PreK-2</code></li><li><code>Grades 3-5</code></li><li><code>Grades 6-8</code></li><li><code>Grades 9-12</code></li></ul>  \n",
        " **`project_subject_categories`** | One or more (comma-separated) subject categories for the project from the following enumerated list of values:  <br/><ul><li><code>Applied Learning</code></li><li><code>Care &amp; Hunger</code></li><li><code>Health &amp; Sports</code></li><li><code>History &amp; Civics</code></li><li><code>Literacy &amp; Language</code></li><li><code>Math &amp; Science</code></li><li><code>Music &amp; The Arts</code></li><li><code>Special Needs</code></li><li><code>Warmth</code></li></ul><br/> **Examples:** <br/><ul><li><code>Music &amp; The Arts</code></li><li><code>Literacy &amp; Language, Math &amp; Science</code></li>  \n",
        "  **`school_state`** | State where school is located ([Two-letter U.S. postal code](https://en.wikipedia.org/wiki/List_of_U.S._state_abbreviations#Postal_codes)). **Example:** `WY`\n",
        "**`project_subject_subcategories`** | One or more (comma-separated) subject subcategories for the project. **Examples:** <br/><ul><li><code>Literacy</code></li><li><code>Literature &amp; Writing, Social Sciences</code></li></ul> \n",
        "**`project_resource_summary`** | An explanation of the resources needed for the project. **Example:** <br/><ul><li><code>My students need hands on literacy materials to manage sensory needs!</code</li></ul> \n",
        "**`project_essay_1`**    | First application essay<sup>*</sup>  \n",
        "**`project_essay_2`**    | Second application essay<sup>*</sup> \n",
        "**`project_essay_3`**    | Third application essay<sup>*</sup> \n",
        "**`project_essay_4`**    | Fourth application essay<sup>*</sup> \n",
        "**`project_submitted_datetime`** | Datetime when project application was submitted. **Example:** `2016-04-28 12:43:56.245`   \n",
        "**`teacher_id`** | A unique identifier for the teacher of the proposed project. **Example:** `bdf8baa8fedef6bfeec7ae4ff1c15c56`  \n",
        "**`teacher_prefix`** | Teacher's title. One of the following enumerated values: <br/><ul><li><code>nan</code></li><li><code>Dr.</code></li><li><code>Mr.</code></li><li><code>Mrs.</code></li><li><code>Ms.</code></li><li><code>Teacher.</code></li></ul>  \n",
        "**`teacher_number_of_previously_posted_projects`** | Number of project applications previously submitted by the same teacher. **Example:** `2` \n",
        "\n",
        "<sup>*</sup> See the section <b>Notes on the Essay Data</b> for more details about these features.\n",
        "\n",
        "Additionally, the `resources.csv` data set provides more data about the resources required for each project. Each line in this file represents a resource required by a project:\n",
        "\n",
        "Feature | Description \n",
        "----------|---------------\n",
        "**`id`** | A `project_id` value from the `train.csv` file.  **Example:** `p036502`   \n",
        "**`description`** | Desciption of the resource. **Example:** `Tenor Saxophone Reeds, Box of 25`   \n",
        "**`quantity`** | Quantity of the resource required. **Example:** `3`   \n",
        "**`price`** | Price of the resource required. **Example:** `9.95`   \n",
        "\n",
        "**Note:** Many projects require multiple resources. The `id` value corresponds to a `project_id` in train.csv, so you use it as a key to retrieve all resources needed for a project:\n",
        "\n",
        "The data set contains the following label (the value you will attempt to predict):\n",
        "\n",
        "Label | Description\n",
        "----------|---------------\n",
        "`project_is_approved` | A binary flag indicating whether DonorsChoose approved the project. A value of `0` indicates the project was not approved, and a value of `1` indicates the project was approved."
      ]
    },
    {
      "cell_type": "markdown",
      "metadata": {
        "id": "iydYV-rsoUF4",
        "colab_type": "text"
      },
      "source": [
        "### Notes on the Essay Data\n",
        "\n",
        "<ul>\n",
        "Prior to May 17, 2016, the prompts for the essays were as follows:\n",
        "<li>__project_essay_1:__ \"Introduce us to your classroom\"</li>\n",
        "<li>__project_essay_2:__ \"Tell us more about your students\"</li>\n",
        "<li>__project_essay_3:__ \"Describe how your students will use the materials you're requesting\"</li>\n",
        "<li>__project_essay_3:__ \"Close by sharing why your project will make a difference\"</li>\n",
        "</ul>\n",
        "\n",
        "\n",
        "<ul>\n",
        "Starting on May 17, 2016, the number of essays was reduced from 4 to 2, and the prompts for the first 2 essays were changed to the following:<br>\n",
        "<li>__project_essay_1:__ \"Describe your students: What makes your students special? Specific details about their background, your neighborhood, and your school are all helpful.\"</li>\n",
        "<li>__project_essay_2:__ \"About your project: How will these materials make a difference in your students' learning and improve their school lives?\"</li>\n",
        "<br>For all projects with project_submitted_datetime of 2016-05-17 and later, the values of project_essay_3 and project_essay_4 will be NaN.\n",
        "</ul>\n"
      ]
    },
    {
      "cell_type": "code",
      "metadata": {
        "id": "CB_mY9_roUF6",
        "colab_type": "code",
        "colab": {}
      },
      "source": [
        "%matplotlib inline\n",
        "import warnings\n",
        "warnings.filterwarnings(\"ignore\")\n",
        "\n",
        "import sqlite3\n",
        "import pandas as pd\n",
        "import numpy as np\n",
        "import nltk\n",
        "import string\n",
        "import matplotlib.pyplot as plt\n",
        "import seaborn as sns\n",
        "from sklearn.model_selection import train_test_split\n",
        "from sklearn.feature_extraction.text import TfidfTransformer\n",
        "from sklearn.feature_extraction.text import TfidfVectorizer\n",
        "\n",
        "from sklearn.feature_extraction.text import CountVectorizer\n",
        "from sklearn.metrics import confusion_matrix\n",
        "from sklearn import metrics\n",
        "from sklearn.metrics import roc_curve, auc\n",
        "from nltk.stem.porter import PorterStemmer\n",
        "\n",
        "import re\n",
        "# Tutorial about Python regular expressions: https://pymotw.com/2/re/\n",
        "import string\n",
        "from nltk.corpus import stopwords\n",
        "from nltk.stem import PorterStemmer\n",
        "from nltk.stem.wordnet import WordNetLemmatizer\n",
        "\n",
        "from gensim.models import Word2Vec\n",
        "from gensim.models import KeyedVectors\n",
        "import pickle\n",
        "\n",
        "from tqdm import tqdm\n",
        "import os\n",
        "\n",
        "# from plotly import plotly\n",
        "# import plotly.offline as offline\n",
        "# import plotly.graph_objs as go\n",
        "# offline.init_notebook_mode()\n",
        "from collections import Counter"
      ],
      "execution_count": 0,
      "outputs": []
    },
    {
      "cell_type": "code",
      "metadata": {
        "id": "WGtM7olAiHkP",
        "colab_type": "code",
        "outputId": "e52e2609-f2c2-4fa7-aa7d-ac6667814e90",
        "colab": {
          "base_uri": "https://localhost:8080/",
          "height": 51
        }
      },
      "source": [
        "import nltk\n",
        "nltk.download('vader_lexicon')"
      ],
      "execution_count": 3,
      "outputs": [
        {
          "output_type": "stream",
          "text": [
            "[nltk_data] Downloading package vader_lexicon to /root/nltk_data...\n"
          ],
          "name": "stdout"
        },
        {
          "output_type": "execute_result",
          "data": {
            "text/plain": [
              "True"
            ]
          },
          "metadata": {
            "tags": []
          },
          "execution_count": 3
        }
      ]
    },
    {
      "cell_type": "code",
      "metadata": {
        "id": "aZAzfVlVYrd1",
        "colab_type": "code",
        "outputId": "96141d4f-b9cb-4bea-a02c-e50a76773611",
        "colab": {
          "base_uri": "https://localhost:8080/",
          "height": 85
        }
      },
      "source": [
        "!unzip donar_choose_data.zip"
      ],
      "execution_count": 4,
      "outputs": [
        {
          "output_type": "stream",
          "text": [
            "Archive:  donar_choose_data.zip\n",
            "   creating: donar_choose_data/\n",
            "  inflating: donar_choose_data/resources.csv  \n",
            "  inflating: donar_choose_data/train_data.csv  \n"
          ],
          "name": "stdout"
        }
      ]
    },
    {
      "cell_type": "code",
      "metadata": {
        "id": "hIILvi9dYuaP",
        "colab_type": "code",
        "outputId": "a2079b52-d01a-46f0-e470-d33a1ff28b04",
        "colab": {
          "base_uri": "https://localhost:8080/",
          "height": 34
        }
      },
      "source": [
        "!ls /content/donar_choose_data.zip"
      ],
      "execution_count": 5,
      "outputs": [
        {
          "output_type": "stream",
          "text": [
            "/content/donar_choose_data.zip\n"
          ],
          "name": "stdout"
        }
      ]
    },
    {
      "cell_type": "markdown",
      "metadata": {
        "id": "XbVmhJgKoUGE",
        "colab_type": "text"
      },
      "source": [
        "## 1.1 Reading Data"
      ]
    },
    {
      "cell_type": "code",
      "metadata": {
        "id": "fv9wFU8ZoUGF",
        "colab_type": "code",
        "colab": {}
      },
      "source": [
        "project_data = pd.read_csv('donar_choose_data/train_data.csv')\n",
        "resource_data = pd.read_csv('donar_choose_data/resources.csv')"
      ],
      "execution_count": 0,
      "outputs": []
    },
    {
      "cell_type": "code",
      "metadata": {
        "id": "GAYzkeNtoUGJ",
        "colab_type": "code",
        "outputId": "26e0fd20-5be4-414f-f8fb-02ff6acd9558",
        "colab": {
          "base_uri": "https://localhost:8080/",
          "height": 153
        }
      },
      "source": [
        "print(\"Number of data points in train data\", project_data.shape)\n",
        "print('-'*50)\n",
        "print(\"The attributes of data :\", project_data.columns.values)"
      ],
      "execution_count": 7,
      "outputs": [
        {
          "output_type": "stream",
          "text": [
            "Number of data points in train data (109248, 17)\n",
            "--------------------------------------------------\n",
            "The attributes of data : ['Unnamed: 0' 'id' 'teacher_id' 'teacher_prefix' 'school_state'\n",
            " 'project_submitted_datetime' 'project_grade_category'\n",
            " 'project_subject_categories' 'project_subject_subcategories'\n",
            " 'project_title' 'project_essay_1' 'project_essay_2' 'project_essay_3'\n",
            " 'project_essay_4' 'project_resource_summary'\n",
            " 'teacher_number_of_previously_posted_projects' 'project_is_approved']\n"
          ],
          "name": "stdout"
        }
      ]
    },
    {
      "cell_type": "code",
      "metadata": {
        "id": "RcShjQotoUGQ",
        "colab_type": "code",
        "outputId": "fdc23291-448e-4757-da6c-d0fc3efb036a",
        "colab": {
          "base_uri": "https://localhost:8080/",
          "height": 145
        }
      },
      "source": [
        "print(\"Number of data points in train data\", resource_data.shape)\n",
        "print(resource_data.columns.values)\n",
        "resource_data.head(2)"
      ],
      "execution_count": 8,
      "outputs": [
        {
          "output_type": "stream",
          "text": [
            "Number of data points in train data (1541272, 4)\n",
            "['id' 'description' 'quantity' 'price']\n"
          ],
          "name": "stdout"
        },
        {
          "output_type": "execute_result",
          "data": {
            "text/html": [
              "<div>\n",
              "<style scoped>\n",
              "    .dataframe tbody tr th:only-of-type {\n",
              "        vertical-align: middle;\n",
              "    }\n",
              "\n",
              "    .dataframe tbody tr th {\n",
              "        vertical-align: top;\n",
              "    }\n",
              "\n",
              "    .dataframe thead th {\n",
              "        text-align: right;\n",
              "    }\n",
              "</style>\n",
              "<table border=\"1\" class=\"dataframe\">\n",
              "  <thead>\n",
              "    <tr style=\"text-align: right;\">\n",
              "      <th></th>\n",
              "      <th>id</th>\n",
              "      <th>description</th>\n",
              "      <th>quantity</th>\n",
              "      <th>price</th>\n",
              "    </tr>\n",
              "  </thead>\n",
              "  <tbody>\n",
              "    <tr>\n",
              "      <th>0</th>\n",
              "      <td>p233245</td>\n",
              "      <td>LC652 - Lakeshore Double-Space Mobile Drying Rack</td>\n",
              "      <td>1</td>\n",
              "      <td>149.00</td>\n",
              "    </tr>\n",
              "    <tr>\n",
              "      <th>1</th>\n",
              "      <td>p069063</td>\n",
              "      <td>Bouncy Bands for Desks (Blue support pipes)</td>\n",
              "      <td>3</td>\n",
              "      <td>14.95</td>\n",
              "    </tr>\n",
              "  </tbody>\n",
              "</table>\n",
              "</div>"
            ],
            "text/plain": [
              "        id                                        description  quantity   price\n",
              "0  p233245  LC652 - Lakeshore Double-Space Mobile Drying Rack         1  149.00\n",
              "1  p069063        Bouncy Bands for Desks (Blue support pipes)         3   14.95"
            ]
          },
          "metadata": {
            "tags": []
          },
          "execution_count": 8
        }
      ]
    },
    {
      "cell_type": "markdown",
      "metadata": {
        "id": "WpalDcGUoUGW",
        "colab_type": "text"
      },
      "source": [
        "## 1.2 preprocessing of `project_subject_categories`"
      ]
    },
    {
      "cell_type": "code",
      "metadata": {
        "id": "eM4RYg1qoUGX",
        "colab_type": "code",
        "colab": {}
      },
      "source": [
        "catogories = list(project_data['project_subject_categories'].values)\n",
        "# remove special characters from list of strings python: https://stackoverflow.com/a/47301924/4084039\n",
        "\n",
        "# https://www.geeksforgeeks.org/removing-stop-words-nltk-python/\n",
        "# https://stackoverflow.com/questions/23669024/how-to-strip-a-specific-word-from-a-string\n",
        "# https://stackoverflow.com/questions/8270092/remove-all-whitespace-in-a-string-in-python\n",
        "cat_list = []\n",
        "for i in catogories:\n",
        "    temp = \"\"\n",
        "    # consider we have text like this \"Math & Science, Warmth, Care & Hunger\"\n",
        "    for j in i.split(','): # it will split it in three parts [\"Math & Science\", \"Warmth\", \"Care & Hunger\"]\n",
        "        if 'The' in j.split(): # this will split each of the catogory based on space \"Math & Science\"=> \"Math\",\"&\", \"Science\"\n",
        "            j=j.replace('The','') # if we have the words \"The\" we are going to replace it with ''(i.e removing 'The')\n",
        "        j = j.replace(' ','') # we are placeing all the ' '(space) with ''(empty) ex:\"Math & Science\"=>\"Math&Science\"\n",
        "        temp+=j.strip()+\" \" #\" abc \".strip() will return \"abc\", remove the trailing spaces\n",
        "        temp = temp.replace('&','_') # we are replacing the & value into \n",
        "    cat_list.append(temp.strip())\n",
        "    \n",
        "project_data['clean_categories'] = cat_list\n",
        "project_data.drop(['project_subject_categories'], axis=1, inplace=True)\n",
        "\n",
        "from collections import Counter\n",
        "my_counter = Counter()\n",
        "for word in project_data['clean_categories'].values:\n",
        "    my_counter.update(word.split())\n",
        "\n",
        "cat_dict = dict(my_counter)\n",
        "sorted_cat_dict = dict(sorted(cat_dict.items(), key=lambda kv: kv[1]))\n"
      ],
      "execution_count": 0,
      "outputs": []
    },
    {
      "cell_type": "markdown",
      "metadata": {
        "id": "EMP3hhkvoUGb",
        "colab_type": "text"
      },
      "source": [
        "## 1.3 preprocessing of `project_subject_subcategories`"
      ]
    },
    {
      "cell_type": "code",
      "metadata": {
        "id": "DGM4QvrQoUGc",
        "colab_type": "code",
        "colab": {}
      },
      "source": [
        "sub_catogories = list(project_data['project_subject_subcategories'].values)\n",
        "# remove special characters from list of strings python: https://stackoverflow.com/a/47301924/4084039\n",
        "\n",
        "# https://www.geeksforgeeks.org/removing-stop-words-nltk-python/\n",
        "# https://stackoverflow.com/questions/23669024/how-to-strip-a-specific-word-from-a-string\n",
        "# https://stackoverflow.com/questions/8270092/remove-all-whitespace-in-a-string-in-python\n",
        "\n",
        "sub_cat_list = []\n",
        "for i in sub_catogories:\n",
        "    temp = \"\"\n",
        "    # consider we have text like this \"Math & Science, Warmth, Care & Hunger\"\n",
        "    for j in i.split(','): # it will split it in three parts [\"Math & Science\", \"Warmth\", \"Care & Hunger\"]\n",
        "        if 'The' in j.split(): # this will split each of the catogory based on space \"Math & Science\"=> \"Math\",\"&\", \"Science\"\n",
        "            j=j.replace('The','') # if we have the words \"The\" we are going to replace it with ''(i.e removing 'The')\n",
        "        j = j.replace(' ','') # we are placeing all the ' '(space) with ''(empty) ex:\"Math & Science\"=>\"Math&Science\"\n",
        "        temp +=j.strip()+\" \"#\" abc \".strip() will return \"abc\", remove the trailing spaces\n",
        "        temp = temp.replace('&','_')\n",
        "    sub_cat_list.append(temp.strip())\n",
        "\n",
        "project_data['clean_subcategories'] = sub_cat_list\n",
        "project_data.drop(['project_subject_subcategories'], axis=1, inplace=True)\n",
        "\n",
        "# count of all the words in corpus python: https://stackoverflow.com/a/22898595/4084039\n",
        "my_counter = Counter()\n",
        "for word in project_data['clean_subcategories'].values:\n",
        "    my_counter.update(word.split())\n",
        "    \n",
        "sub_cat_dict = dict(my_counter)\n",
        "sorted_sub_cat_dict = dict(sorted(sub_cat_dict.items(), key=lambda kv: kv[1]))"
      ],
      "execution_count": 0,
      "outputs": []
    },
    {
      "cell_type": "markdown",
      "metadata": {
        "id": "9LdJ4JOloUGf",
        "colab_type": "text"
      },
      "source": [
        "## 1.3 Text preprocessing"
      ]
    },
    {
      "cell_type": "code",
      "metadata": {
        "id": "JRmyuIgeoUGh",
        "colab_type": "code",
        "colab": {}
      },
      "source": [
        "# merge two column text dataframe: \n",
        "project_data[\"essay\"] = project_data[\"project_essay_1\"].map(str) +\\\n",
        "                        project_data[\"project_essay_2\"].map(str) + \\\n",
        "                        project_data[\"project_essay_3\"].map(str) + \\\n",
        "                        project_data[\"project_essay_4\"].map(str)"
      ],
      "execution_count": 0,
      "outputs": []
    },
    {
      "cell_type": "code",
      "metadata": {
        "id": "8vCZZ8sKoUGk",
        "colab_type": "code",
        "outputId": "0c718ebf-b410-4146-cc25-06cb71bfee67",
        "colab": {
          "base_uri": "https://localhost:8080/",
          "height": 352
        }
      },
      "source": [
        "project_data.head(2)"
      ],
      "execution_count": 12,
      "outputs": [
        {
          "output_type": "execute_result",
          "data": {
            "text/html": [
              "<div>\n",
              "<style scoped>\n",
              "    .dataframe tbody tr th:only-of-type {\n",
              "        vertical-align: middle;\n",
              "    }\n",
              "\n",
              "    .dataframe tbody tr th {\n",
              "        vertical-align: top;\n",
              "    }\n",
              "\n",
              "    .dataframe thead th {\n",
              "        text-align: right;\n",
              "    }\n",
              "</style>\n",
              "<table border=\"1\" class=\"dataframe\">\n",
              "  <thead>\n",
              "    <tr style=\"text-align: right;\">\n",
              "      <th></th>\n",
              "      <th>Unnamed: 0</th>\n",
              "      <th>id</th>\n",
              "      <th>teacher_id</th>\n",
              "      <th>teacher_prefix</th>\n",
              "      <th>school_state</th>\n",
              "      <th>project_submitted_datetime</th>\n",
              "      <th>project_grade_category</th>\n",
              "      <th>project_title</th>\n",
              "      <th>project_essay_1</th>\n",
              "      <th>project_essay_2</th>\n",
              "      <th>project_essay_3</th>\n",
              "      <th>project_essay_4</th>\n",
              "      <th>project_resource_summary</th>\n",
              "      <th>teacher_number_of_previously_posted_projects</th>\n",
              "      <th>project_is_approved</th>\n",
              "      <th>clean_categories</th>\n",
              "      <th>clean_subcategories</th>\n",
              "      <th>essay</th>\n",
              "    </tr>\n",
              "  </thead>\n",
              "  <tbody>\n",
              "    <tr>\n",
              "      <th>0</th>\n",
              "      <td>160221</td>\n",
              "      <td>p253737</td>\n",
              "      <td>c90749f5d961ff158d4b4d1e7dc665fc</td>\n",
              "      <td>Mrs.</td>\n",
              "      <td>IN</td>\n",
              "      <td>2016-12-05 13:43:57</td>\n",
              "      <td>Grades PreK-2</td>\n",
              "      <td>Educational Support for English Learners at Home</td>\n",
              "      <td>My students are English learners that are work...</td>\n",
              "      <td>\\\"The limits of your language are the limits o...</td>\n",
              "      <td>NaN</td>\n",
              "      <td>NaN</td>\n",
              "      <td>My students need opportunities to practice beg...</td>\n",
              "      <td>0</td>\n",
              "      <td>0</td>\n",
              "      <td>Literacy_Language</td>\n",
              "      <td>ESL Literacy</td>\n",
              "      <td>My students are English learners that are work...</td>\n",
              "    </tr>\n",
              "    <tr>\n",
              "      <th>1</th>\n",
              "      <td>140945</td>\n",
              "      <td>p258326</td>\n",
              "      <td>897464ce9ddc600bced1151f324dd63a</td>\n",
              "      <td>Mr.</td>\n",
              "      <td>FL</td>\n",
              "      <td>2016-10-25 09:22:10</td>\n",
              "      <td>Grades 6-8</td>\n",
              "      <td>Wanted: Projector for Hungry Learners</td>\n",
              "      <td>Our students arrive to our school eager to lea...</td>\n",
              "      <td>The projector we need for our school is very c...</td>\n",
              "      <td>NaN</td>\n",
              "      <td>NaN</td>\n",
              "      <td>My students need a projector to help with view...</td>\n",
              "      <td>7</td>\n",
              "      <td>1</td>\n",
              "      <td>History_Civics Health_Sports</td>\n",
              "      <td>Civics_Government TeamSports</td>\n",
              "      <td>Our students arrive to our school eager to lea...</td>\n",
              "    </tr>\n",
              "  </tbody>\n",
              "</table>\n",
              "</div>"
            ],
            "text/plain": [
              "   Unnamed: 0  ...                                              essay\n",
              "0      160221  ...  My students are English learners that are work...\n",
              "1      140945  ...  Our students arrive to our school eager to lea...\n",
              "\n",
              "[2 rows x 18 columns]"
            ]
          },
          "metadata": {
            "tags": []
          },
          "execution_count": 12
        }
      ]
    },
    {
      "cell_type": "code",
      "metadata": {
        "id": "y1IMIH5ioUGo",
        "colab_type": "code",
        "colab": {}
      },
      "source": [
        "#### 1.4.2.3 Using Pretrained Models: TFIDF weighted W2V"
      ],
      "execution_count": 0,
      "outputs": []
    },
    {
      "cell_type": "code",
      "metadata": {
        "id": "ghjkQ5NJoUGq",
        "colab_type": "code",
        "outputId": "802005d3-5a6b-425b-d900-d41c4e005c16",
        "colab": {
          "base_uri": "https://localhost:8080/",
          "height": 207
        }
      },
      "source": [
        "# printing some random reviews\n",
        "print(project_data['essay'].values[0])\n",
        "print(\"=\"*50)\n",
        "print(project_data['essay'].values[150])\n",
        "print(\"=\"*50)\n",
        "print(project_data['essay'].values[1000])\n",
        "print(\"=\"*50)\n",
        "print(project_data['essay'].values[20000])\n",
        "print(\"=\"*50)\n",
        "print(project_data['essay'].values[99999])\n",
        "print(\"=\"*50)"
      ],
      "execution_count": 14,
      "outputs": [
        {
          "output_type": "stream",
          "text": [
            "My students are English learners that are working on English as their second or third languages. We are a melting pot of refugees, immigrants, and native-born Americans bringing the gift of language to our school. \\r\\n\\r\\n We have over 24 languages represented in our English Learner program with students at every level of mastery.  We also have over 40 countries represented with the families within our school.  Each student brings a wealth of knowledge and experiences to us that open our eyes to new cultures, beliefs, and respect.\\\"The limits of your language are the limits of your world.\\\"-Ludwig Wittgenstein  Our English learner's have a strong support system at home that begs for more resources.  Many times our parents are learning to read and speak English along side of their children.  Sometimes this creates barriers for parents to be able to help their child learn phonetics, letter recognition, and other reading skills.\\r\\n\\r\\nBy providing these dvd's and players, students are able to continue their mastery of the English language even if no one at home is able to assist.  All families with students within the Level 1 proficiency status, will be a offered to be a part of this program.  These educational videos will be specially chosen by the English Learner Teacher and will be sent home regularly to watch.  The videos are to help the child develop early reading skills.\\r\\n\\r\\nParents that do not have access to a dvd player will have the opportunity to check out a dvd player to use for the year.  The plan is to use these videos and educational dvd's for the years to come for other EL students.\\r\\nnannan\n",
            "==================================================\n",
            "The 51 fifth grade students that will cycle through my classroom this year all love learning, at least most of the time. At our school, 97.3% of the students receive free or reduced price lunch. Of the 560 students, 97.3% are minority students. \\r\\nThe school has a vibrant community that loves to get together and celebrate. Around Halloween there is a whole school parade to show off the beautiful costumes that students wear. On Cinco de Mayo we put on a big festival with crafts made by the students, dances, and games. At the end of the year the school hosts a carnival to celebrate the hard work put in during the school year, with a dunk tank being the most popular activity.My students will use these five brightly colored Hokki stools in place of regular, stationary, 4-legged chairs. As I will only have a total of ten in the classroom and not enough for each student to have an individual one, they will be used in a variety of ways. During independent reading time they will be used as special chairs students will each use on occasion. I will utilize them in place of chairs at my small group tables during math and reading times. The rest of the day they will be used by the students who need the highest amount of movement in their life in order to stay focused on school.\\r\\n\\r\\nWhenever asked what the classroom is missing, my students always say more Hokki Stools. They can't get their fill of the 5 stools we already have. When the students are sitting in group with me on the Hokki Stools, they are always moving, but at the same time doing their work. Anytime the students get to pick where they can sit, the Hokki Stools are the first to be taken. There are always students who head over to the kidney table to get one of the stools who are disappointed as there are not enough of them. \\r\\n\\r\\nWe ask a lot of students to sit for 7 hours a day. The Hokki stools will be a compromise that allow my students to do desk work and move at the same time. These stools will help students to meet their 60 minutes a day of movement by allowing them to activate their core muscles for balance while they sit. For many of my students, these chairs will take away the barrier that exists in schools for a child who can't sit still.nannan\n",
            "==================================================\n",
            "How do you remember your days of school? Was it in a sterile environment with plain walls, rows of desks, and a teacher in front of the room? A typical day in our room is nothing like that. I work hard to create a warm inviting themed room for my students look forward to coming to each day.\\r\\n\\r\\nMy class is made up of 28 wonderfully unique boys and girls of mixed races in Arkansas.\\r\\nThey attend a Title I school, which means there is a high enough percentage of free and reduced-price lunch to qualify. Our school is an \\\"open classroom\\\" concept, which is very unique as there are no walls separating the classrooms. These 9 and 10 year-old students are very eager learners; they are like sponges, absorbing all the information and experiences and keep on wanting more.With these resources such as the comfy red throw pillows and the whimsical nautical hanging decor and the blue fish nets, I will be able to help create the mood in our classroom setting to be one of a themed nautical environment. Creating a classroom environment is very important in the success in each and every child's education. The nautical photo props will be used with each child as they step foot into our classroom for the first time on Meet the Teacher evening. I'll take pictures of each child with them, have them developed, and then hung in our classroom ready for their first day of 4th grade.  This kind gesture will set the tone before even the first day of school! The nautical thank you cards will be used throughout the year by the students as they create thank you cards to their team groups.\\r\\n\\r\\nYour generous donations will help me to help make our classroom a fun, inviting, learning environment from day one.\\r\\n\\r\\nIt costs lost of money out of my own pocket on resources to get our classroom ready. Please consider helping with this project to make our new school year a very successful one. Thank you!nannan\n",
            "==================================================\n",
            "My kindergarten students have varied disabilities ranging from speech and language delays, cognitive delays, gross/fine motor delays, to autism. They are eager beavers and always strive to work their hardest working past their limitations. \\r\\n\\r\\nThe materials we have are the ones I seek out for my students. I teach in a Title I school where most of the students receive free or reduced price lunch.  Despite their disabilities and limitations, my students love coming to school and come eager to learn and explore.Have you ever felt like you had ants in your pants and you needed to groove and move as you were in a meeting? This is how my kids feel all the time. The want to be able to move as they learn or so they say.Wobble chairs are the answer and I love then because they develop their core, which enhances gross motor and in Turn fine motor skills. \\r\\nThey also want to learn through games, my kids don't want to sit and do worksheets. They want to learn to count by jumping and playing. Physical engagement is the key to our success. The number toss and color and shape mats can make that happen. My students will forget they are doing work and just have the fun a 6 year old deserves.nannan\n",
            "==================================================\n",
            "The mediocre teacher tells. The good teacher explains. The superior teacher demonstrates. The great teacher inspires. -William A. Ward\\r\\n\\r\\nMy school has 803 students which is makeup is 97.6% African-American, making up the largest segment of the student body. A typical school in Dallas is made up of 23.2% African-American students. Most of the students are on free or reduced lunch. We aren't receiving doctors, lawyers, or engineers children from rich backgrounds or neighborhoods. As an educator I am inspiring minds of young children and we focus not only on academics but one smart, effective, efficient, and disciplined students with good character.In our classroom we can utilize the Bluetooth for swift transitions during class. I use a speaker which doesn't amplify the sound enough to receive the message. Due to the volume of my speaker my students can't hear videos or books clearly and it isn't making the lessons as meaningful. But with the bluetooth speaker my students will be able to hear and I can stop, pause and replay it at any time.\\r\\nThe cart will allow me to have more room for storage of things that are needed for the day and has an extra part to it I can use.  The table top chart has all of the letter, words and pictures for students to learn about different letters and it is more accessible.nannan\n",
            "==================================================\n"
          ],
          "name": "stdout"
        }
      ]
    },
    {
      "cell_type": "code",
      "metadata": {
        "id": "TGzKAL65oUGt",
        "colab_type": "code",
        "colab": {}
      },
      "source": [
        "# https://stackoverflow.com/a/47091490/4084039\n",
        "import re\n",
        "\n",
        "def decontracted(phrase):\n",
        "    # specific\n",
        "    phrase = re.sub(r\"won't\", \"will not\", phrase)\n",
        "    phrase = re.sub(r\"can\\'t\", \"can not\", phrase)\n",
        "\n",
        "    # general\n",
        "    phrase = re.sub(r\"n\\'t\", \" not\", phrase)\n",
        "    phrase = re.sub(r\"\\'re\", \" are\", phrase)\n",
        "    phrase = re.sub(r\"\\'s\", \" is\", phrase)\n",
        "    phrase = re.sub(r\"\\'d\", \" would\", phrase)\n",
        "    phrase = re.sub(r\"\\'ll\", \" will\", phrase)\n",
        "    phrase = re.sub(r\"\\'t\", \" not\", phrase)\n",
        "    phrase = re.sub(r\"\\'ve\", \" have\", phrase)\n",
        "    phrase = re.sub(r\"\\'m\", \" am\", phrase)\n",
        "    return phrase"
      ],
      "execution_count": 0,
      "outputs": []
    },
    {
      "cell_type": "code",
      "metadata": {
        "id": "xkeCI1WmoUGw",
        "colab_type": "code",
        "outputId": "76a5fd3f-9628-4577-d580-97afe39cd244",
        "colab": {
          "base_uri": "https://localhost:8080/",
          "height": 71
        }
      },
      "source": [
        "sent = decontracted(project_data['essay'].values[20000])\n",
        "print(sent)\n",
        "print(\"=\"*50)"
      ],
      "execution_count": 16,
      "outputs": [
        {
          "output_type": "stream",
          "text": [
            "My kindergarten students have varied disabilities ranging from speech and language delays, cognitive delays, gross/fine motor delays, to autism. They are eager beavers and always strive to work their hardest working past their limitations. \\r\\n\\r\\nThe materials we have are the ones I seek out for my students. I teach in a Title I school where most of the students receive free or reduced price lunch.  Despite their disabilities and limitations, my students love coming to school and come eager to learn and explore.Have you ever felt like you had ants in your pants and you needed to groove and move as you were in a meeting? This is how my kids feel all the time. The want to be able to move as they learn or so they say.Wobble chairs are the answer and I love then because they develop their core, which enhances gross motor and in Turn fine motor skills. \\r\\nThey also want to learn through games, my kids do not want to sit and do worksheets. They want to learn to count by jumping and playing. Physical engagement is the key to our success. The number toss and color and shape mats can make that happen. My students will forget they are doing work and just have the fun a 6 year old deserves.nannan\n",
            "==================================================\n"
          ],
          "name": "stdout"
        }
      ]
    },
    {
      "cell_type": "code",
      "metadata": {
        "id": "KAhl8dbYoUGz",
        "colab_type": "code",
        "outputId": "6e50a438-93d4-46ad-f3bf-5382f6a0909a",
        "colab": {
          "base_uri": "https://localhost:8080/",
          "height": 54
        }
      },
      "source": [
        "# \\r \\n \\t remove from string python: http://texthandler.com/info/remove-line-breaks-python/\n",
        "sent = sent.replace('\\\\r', ' ')\n",
        "sent = sent.replace('\\\\\"', ' ')\n",
        "sent = sent.replace('\\\\n', ' ')\n",
        "print(sent)"
      ],
      "execution_count": 17,
      "outputs": [
        {
          "output_type": "stream",
          "text": [
            "My kindergarten students have varied disabilities ranging from speech and language delays, cognitive delays, gross/fine motor delays, to autism. They are eager beavers and always strive to work their hardest working past their limitations.     The materials we have are the ones I seek out for my students. I teach in a Title I school where most of the students receive free or reduced price lunch.  Despite their disabilities and limitations, my students love coming to school and come eager to learn and explore.Have you ever felt like you had ants in your pants and you needed to groove and move as you were in a meeting? This is how my kids feel all the time. The want to be able to move as they learn or so they say.Wobble chairs are the answer and I love then because they develop their core, which enhances gross motor and in Turn fine motor skills.   They also want to learn through games, my kids do not want to sit and do worksheets. They want to learn to count by jumping and playing. Physical engagement is the key to our success. The number toss and color and shape mats can make that happen. My students will forget they are doing work and just have the fun a 6 year old deserves.nannan\n"
          ],
          "name": "stdout"
        }
      ]
    },
    {
      "cell_type": "code",
      "metadata": {
        "id": "io_sbKCWoUG2",
        "colab_type": "code",
        "outputId": "869baba9-70aa-43e3-f66e-341d50fe6e83",
        "colab": {
          "base_uri": "https://localhost:8080/",
          "height": 54
        }
      },
      "source": [
        "#remove spacial character: https://stackoverflow.com/a/5843547/4084039\n",
        "sent = re.sub('[^A-Za-z0-9]+', ' ', sent)\n",
        "print(sent)"
      ],
      "execution_count": 18,
      "outputs": [
        {
          "output_type": "stream",
          "text": [
            "My kindergarten students have varied disabilities ranging from speech and language delays cognitive delays gross fine motor delays to autism They are eager beavers and always strive to work their hardest working past their limitations The materials we have are the ones I seek out for my students I teach in a Title I school where most of the students receive free or reduced price lunch Despite their disabilities and limitations my students love coming to school and come eager to learn and explore Have you ever felt like you had ants in your pants and you needed to groove and move as you were in a meeting This is how my kids feel all the time The want to be able to move as they learn or so they say Wobble chairs are the answer and I love then because they develop their core which enhances gross motor and in Turn fine motor skills They also want to learn through games my kids do not want to sit and do worksheets They want to learn to count by jumping and playing Physical engagement is the key to our success The number toss and color and shape mats can make that happen My students will forget they are doing work and just have the fun a 6 year old deserves nannan\n"
          ],
          "name": "stdout"
        }
      ]
    },
    {
      "cell_type": "code",
      "metadata": {
        "id": "wtuFzHzfoUG6",
        "colab_type": "code",
        "colab": {}
      },
      "source": [
        "# https://gist.github.com/sebleier/554280\n",
        "# we are removing the words from the stop words list: 'no', 'nor', 'not'\n",
        "stopwords= ['i', 'me', 'my', 'myself', 'we', 'our', 'ours', 'ourselves', 'you', \"you're\", \"you've\",\\\n",
        "            \"you'll\", \"you'd\", 'your', 'yours', 'yourself', 'yourselves', 'he', 'him', 'his', 'himself', \\\n",
        "            'she', \"she's\", 'her', 'hers', 'herself', 'it', \"it's\", 'its', 'itself', 'they', 'them', 'their',\\\n",
        "            'theirs', 'themselves', 'what', 'which', 'who', 'whom', 'this', 'that', \"that'll\", 'these', 'those', \\\n",
        "            'am', 'is', 'are', 'was', 'were', 'be', 'been', 'being', 'have', 'has', 'had', 'having', 'do', 'does', \\\n",
        "            'did', 'doing', 'a', 'an', 'the', 'and', 'but', 'if', 'or', 'because', 'as', 'until', 'while', 'of', \\\n",
        "            'at', 'by', 'for', 'with', 'about', 'against', 'between', 'into', 'through', 'during', 'before', 'after',\\\n",
        "            'above', 'below', 'to', 'from', 'up', 'down', 'in', 'out', 'on', 'off', 'over', 'under', 'again', 'further',\\\n",
        "            'then', 'once', 'here', 'there', 'when', 'where', 'why', 'how', 'all', 'any', 'both', 'each', 'few', 'more',\\\n",
        "            'most', 'other', 'some', 'such', 'only', 'own', 'same', 'so', 'than', 'too', 'very', \\\n",
        "            's', 't', 'can', 'will', 'just', 'don', \"don't\", 'should', \"should've\", 'now', 'd', 'll', 'm', 'o', 're', \\\n",
        "            've', 'y', 'ain', 'aren', \"aren't\", 'couldn', \"couldn't\", 'didn', \"didn't\", 'doesn', \"doesn't\", 'hadn',\\\n",
        "            \"hadn't\", 'hasn', \"hasn't\", 'haven', \"haven't\", 'isn', \"isn't\", 'ma', 'mightn', \"mightn't\", 'mustn',\\\n",
        "            \"mustn't\", 'needn', \"needn't\", 'shan', \"shan't\", 'shouldn', \"shouldn't\", 'wasn', \"wasn't\", 'weren', \"weren't\", \\\n",
        "            'won', \"won't\", 'wouldn', \"wouldn't\"]"
      ],
      "execution_count": 0,
      "outputs": []
    },
    {
      "cell_type": "code",
      "metadata": {
        "id": "ny4jT0IzoUG8",
        "colab_type": "code",
        "outputId": "9ad2f5fd-823f-44d7-9886-c9964c72883d",
        "colab": {
          "base_uri": "https://localhost:8080/",
          "height": 34
        }
      },
      "source": [
        "# Combining all the above stundents \n",
        "from tqdm import tqdm\n",
        "preprocessed_essays = []\n",
        "# tqdm is for printing the status bar\n",
        "for sentance in tqdm(project_data['essay'].values):\n",
        "    sent = sent.replace('\\\\r', ' ')\n",
        "    sent = sent.replace('\\\\\"', ' ')\n",
        "    sent = sent.replace('\\\\n', ' ')\n",
        "    sent = re.sub('[^A-Za-z0-9]+', ' ', sent)\n",
        "    sent = sent.lower()\n",
        "    sent = decontracted(sentance)\n",
        "    sent = ' '.join(e for e in sent.split() if e not in stopwords)\n",
        "    preprocessed_essays.append(sent.lower().strip())"
      ],
      "execution_count": 20,
      "outputs": [
        {
          "output_type": "stream",
          "text": [
            "100%|██████████| 109248/109248 [00:58<00:00, 1876.77it/s]\n"
          ],
          "name": "stderr"
        }
      ]
    },
    {
      "cell_type": "code",
      "metadata": {
        "id": "ccPTDoKGoUG_",
        "colab_type": "code",
        "outputId": "3ac09eaa-cb41-438c-8c15-a9f65c2d0a95",
        "colab": {
          "base_uri": "https://localhost:8080/",
          "height": 54
        }
      },
      "source": [
        "## storing these pre-processed in the dataframe\n",
        "project_data[\"preprocessed_essays\"]= preprocessed_essays\n",
        "# after preprocesing\n",
        "preprocessed_essays[20000]"
      ],
      "execution_count": 21,
      "outputs": [
        {
          "output_type": "execute_result",
          "data": {
            "text/plain": [
              "'my kindergarten students varied disabilities ranging speech language delays, cognitive delays, gross/fine motor delays, autism. they eager beavers always strive work hardest working past limitations. \\\\r\\\\n\\\\r\\\\nthe materials ones i seek students. i teach title i school students receive free reduced price lunch. despite disabilities limitations, students love coming school come eager learn explore.have ever felt like ants pants needed groove move meeting? this kids feel time. the want able move learn say.wobble chairs answer i love develop core, enhances gross motor turn fine motor skills. \\\\r\\\\nthey also want learn games, kids not want sit worksheets. they want learn count jumping playing. physical engagement key success. the number toss color shape mats make happen. my students forget work fun 6 year old deserves.nannan'"
            ]
          },
          "metadata": {
            "tags": []
          },
          "execution_count": 21
        }
      ]
    },
    {
      "cell_type": "markdown",
      "metadata": {
        "id": "oxBhoq--oUHC",
        "colab_type": "text"
      },
      "source": [
        "<h2><font color='red'> 1.4 Preprocessing of `project_title`</font></h2>"
      ]
    },
    {
      "cell_type": "code",
      "metadata": {
        "id": "zBxyacM6oUHD",
        "colab_type": "code",
        "outputId": "c0ed0688-4d10-4a59-d784-2a08930ba40c",
        "colab": {
          "base_uri": "https://localhost:8080/",
          "height": 34
        }
      },
      "source": [
        "# similarly you can preprocess the titles also\n",
        "from tqdm import tqdm\n",
        "preprocessed_project_title = []\n",
        "for sentance in tqdm(project_data['project_title'].values):\n",
        "    sent = sent.replace('\\\\r', ' ')\n",
        "    sent = sent.replace('\\\\\"', ' ')\n",
        "    sent = sent.replace('\\\\n', ' ')\n",
        "    sent = re.sub('[^A-Za-z0-9]+', ' ', sent)\n",
        "    sent = sent.lower()\n",
        "    sent = decontracted(sentance)\n",
        "    sent = ' '.join(e for e in sent.split() if e not in stopwords)\n",
        "    preprocessed_project_title.append(sent.lower().strip())\n",
        "    \n",
        "project_data[\"preprocessed_project_title\"]= preprocessed_project_title"
      ],
      "execution_count": 22,
      "outputs": [
        {
          "output_type": "stream",
          "text": [
            "100%|██████████| 109248/109248 [00:02<00:00, 41206.76it/s]\n"
          ],
          "name": "stderr"
        }
      ]
    },
    {
      "cell_type": "markdown",
      "metadata": {
        "id": "-waDx0EsqvGa",
        "colab_type": "text"
      },
      "source": [
        "## 1.4.1 Preprocessing project_grade_categories"
      ]
    },
    {
      "cell_type": "code",
      "metadata": {
        "id": "6OyN-QmvquGC",
        "colab_type": "code",
        "colab": {}
      },
      "source": [
        "def replace_chars(string):\n",
        "    string =string.replace(\" \",\"_\")\n",
        "    string =string.replace(\"-\",\"_\")\n",
        "    return string\n",
        "\n",
        "project_data[\"project_grade_category\"] = project_data[\"project_grade_category\"].apply(replace_chars)"
      ],
      "execution_count": 0,
      "outputs": []
    },
    {
      "cell_type": "markdown",
      "metadata": {
        "id": "peR4vQH943wE",
        "colab_type": "text"
      },
      "source": [
        "### Adding new features \"essays_word_count\" & \"title_word_count\""
      ]
    },
    {
      "cell_type": "code",
      "metadata": {
        "id": "NLAQQnae3AQ5",
        "colab_type": "code",
        "colab": {}
      },
      "source": [
        "project_data[\"essays_word_count\"] = project_data['preprocessed_essays'].str.count(\" \")+1\n",
        "project_data[\"title_word_count\"] = project_data[\"preprocessed_project_title\"].str.count(\" \")+1"
      ],
      "execution_count": 0,
      "outputs": []
    },
    {
      "cell_type": "markdown",
      "metadata": {
        "id": "6sZvMoQfOh-b",
        "colab_type": "text"
      },
      "source": [
        "### Computing Sentiment Scores"
      ]
    },
    {
      "cell_type": "code",
      "metadata": {
        "id": "3p89T-aorRgy",
        "colab_type": "code",
        "colab": {}
      },
      "source": [
        "# for_sentiment = 'a person is a person no matter how small dr seuss i teach the smallest students with the biggest enthusiasm \\\n",
        "# for learning my students learn in many different ways using all of our senses and multiple intelligences i use a wide range\\\n",
        "# of techniques to help all my students succeed students in my class come from a variety of different backgrounds which makes\\\n",
        "# for wonderful sharing of experiences and cultures including native americans our school is a caring community of successful \\\n",
        "# learners which can be seen through collaborative student project based learning in and out of the classroom kindergarteners \\\n",
        "# in my class love to work with hands on materials and have many different opportunities to practice a skill before it is\\\n",
        "# mastered having the social skills to work cooperatively with friends is a crucial aspect of the kindergarten curriculum\\\n",
        "# montana is the perfect place to learn about agriculture and nutrition my students love to role play in our pretend kitchen\\\n",
        "# in the early childhood classroom i have had several kids ask me can we try cooking with real food i will take their idea \\\n",
        "# and create common core cooking lessons where we learn important math and writing concepts while cooking delicious healthy \\\n",
        "# food for snack time my students will have a grounded appreciation for the work that went into making the food and knowledge \\\n",
        "# of where the ingredients came from as well as how it is healthy for their bodies this project would expand our learning of \\\n",
        "# nutrition and agricultural cooking recipes by having us peel our own apples to make homemade applesauce make our own bread \\\n",
        "# and mix up healthy plants from our classroom garden in the spring we will also create our own cookbooks to be printed and \\\n",
        "# shared with families students will gain math and literature skills as well as a life long enjoyment for healthy cooking \\\n",
        "# nannan'\n",
        "\n",
        "# we can use these 4 things as features/attributes (neg, neu, pos, compound)\n",
        "# neg: 0.0, neu: 0.753, pos: 0.247, compound: 0.93\n"
      ],
      "execution_count": 0,
      "outputs": []
    },
    {
      "cell_type": "code",
      "metadata": {
        "id": "iVlQW4vp6KA_",
        "colab_type": "code",
        "colab": {}
      },
      "source": [
        "import nltk\n",
        "from nltk.sentiment.vader import SentimentIntensityAnalyzer\n",
        "\n",
        "sid = SentimentIntensityAnalyzer()\n",
        "\n",
        "def calculate_sentiment_scores(string):\n",
        "    ss = sid.polarity_scores(string)\n",
        "    return ss[\"neg\"], ss[\"neu\"], ss[\"pos\"], ss[\"compound\"]\n",
        "  \n",
        "#https://stackoverflow.com/questions/16236684/apply-pandas-function-to-column-to-create-multiple-new-columns\n",
        "project_data[\"neg_score\"], project_data[\"neu_score\"], project_data[\"pos_score\"], project_data[\"compound_score\"] = \\\n",
        "                                                              zip(*project_data[\"preprocessed_essays\"].map(calculate_sentiment_scores))\n"
      ],
      "execution_count": 0,
      "outputs": []
    },
    {
      "cell_type": "markdown",
      "metadata": {
        "id": "K4xAK_PWq_hc",
        "colab_type": "text"
      },
      "source": [
        "## Train test (stratified) split "
      ]
    },
    {
      "cell_type": "code",
      "metadata": {
        "id": "W0f5mJzgq907",
        "colab_type": "code",
        "colab": {}
      },
      "source": [
        "price_data = resource_data.groupby('id').agg({'price':'sum', 'quantity':'sum'}).reset_index()\n",
        "project_data = pd.merge(project_data, price_data, on='id', how='left')\n",
        "try:\n",
        "    y_train = project_data[\"project_is_approved\"]\n",
        "    project_data.drop(columns=[\"project_is_approved\"],inplace=True)\n",
        "except:\n",
        "    pass\n"
      ],
      "execution_count": 0,
      "outputs": []
    },
    {
      "cell_type": "code",
      "metadata": {
        "id": "2dhWXeDdq9sG",
        "colab_type": "code",
        "colab": {}
      },
      "source": [
        "x_train , x_test, y_train, y_test = train_test_split(project_data, y_train, stratify=y_train, test_size=0.2, random_state=28)\n",
        "#x_train , x_val, y_train, y_val  = train_test_split(x_train, y_train, stratify=y_train, test_size=0.25, random_state=28)"
      ],
      "execution_count": 0,
      "outputs": []
    },
    {
      "cell_type": "code",
      "metadata": {
        "id": "8cZui-D0q9m5",
        "colab_type": "code",
        "outputId": "e36453dc-057f-49ba-eb89-c8800a03b108",
        "colab": {
          "base_uri": "https://localhost:8080/",
          "height": 666
        }
      },
      "source": [
        "# maintain copy\n",
        "project_data_copy = project_data.copy()\n",
        "y_train_copy=y_train.copy()\n",
        "project_data.head(5)\n",
        "#x_val.head(1)\n",
        "#x_test.head(1)"
      ],
      "execution_count": 28,
      "outputs": [
        {
          "output_type": "execute_result",
          "data": {
            "text/html": [
              "<div>\n",
              "<style scoped>\n",
              "    .dataframe tbody tr th:only-of-type {\n",
              "        vertical-align: middle;\n",
              "    }\n",
              "\n",
              "    .dataframe tbody tr th {\n",
              "        vertical-align: top;\n",
              "    }\n",
              "\n",
              "    .dataframe thead th {\n",
              "        text-align: right;\n",
              "    }\n",
              "</style>\n",
              "<table border=\"1\" class=\"dataframe\">\n",
              "  <thead>\n",
              "    <tr style=\"text-align: right;\">\n",
              "      <th></th>\n",
              "      <th>Unnamed: 0</th>\n",
              "      <th>id</th>\n",
              "      <th>teacher_id</th>\n",
              "      <th>teacher_prefix</th>\n",
              "      <th>school_state</th>\n",
              "      <th>project_submitted_datetime</th>\n",
              "      <th>project_grade_category</th>\n",
              "      <th>project_title</th>\n",
              "      <th>project_essay_1</th>\n",
              "      <th>project_essay_2</th>\n",
              "      <th>project_essay_3</th>\n",
              "      <th>project_essay_4</th>\n",
              "      <th>project_resource_summary</th>\n",
              "      <th>teacher_number_of_previously_posted_projects</th>\n",
              "      <th>clean_categories</th>\n",
              "      <th>clean_subcategories</th>\n",
              "      <th>essay</th>\n",
              "      <th>preprocessed_essays</th>\n",
              "      <th>preprocessed_project_title</th>\n",
              "      <th>essays_word_count</th>\n",
              "      <th>title_word_count</th>\n",
              "      <th>neg_score</th>\n",
              "      <th>neu_score</th>\n",
              "      <th>pos_score</th>\n",
              "      <th>compound_score</th>\n",
              "      <th>price</th>\n",
              "      <th>quantity</th>\n",
              "    </tr>\n",
              "  </thead>\n",
              "  <tbody>\n",
              "    <tr>\n",
              "      <th>0</th>\n",
              "      <td>160221</td>\n",
              "      <td>p253737</td>\n",
              "      <td>c90749f5d961ff158d4b4d1e7dc665fc</td>\n",
              "      <td>Mrs.</td>\n",
              "      <td>IN</td>\n",
              "      <td>2016-12-05 13:43:57</td>\n",
              "      <td>Grades_PreK_2</td>\n",
              "      <td>Educational Support for English Learners at Home</td>\n",
              "      <td>My students are English learners that are work...</td>\n",
              "      <td>\\\"The limits of your language are the limits o...</td>\n",
              "      <td>NaN</td>\n",
              "      <td>NaN</td>\n",
              "      <td>My students need opportunities to practice beg...</td>\n",
              "      <td>0</td>\n",
              "      <td>Literacy_Language</td>\n",
              "      <td>ESL Literacy</td>\n",
              "      <td>My students are English learners that are work...</td>\n",
              "      <td>my students english learners working english s...</td>\n",
              "      <td>educational support english learners home</td>\n",
              "      <td>156</td>\n",
              "      <td>5</td>\n",
              "      <td>0.013</td>\n",
              "      <td>0.856</td>\n",
              "      <td>0.131</td>\n",
              "      <td>0.9595</td>\n",
              "      <td>154.60</td>\n",
              "      <td>23</td>\n",
              "    </tr>\n",
              "    <tr>\n",
              "      <th>1</th>\n",
              "      <td>140945</td>\n",
              "      <td>p258326</td>\n",
              "      <td>897464ce9ddc600bced1151f324dd63a</td>\n",
              "      <td>Mr.</td>\n",
              "      <td>FL</td>\n",
              "      <td>2016-10-25 09:22:10</td>\n",
              "      <td>Grades_6_8</td>\n",
              "      <td>Wanted: Projector for Hungry Learners</td>\n",
              "      <td>Our students arrive to our school eager to lea...</td>\n",
              "      <td>The projector we need for our school is very c...</td>\n",
              "      <td>NaN</td>\n",
              "      <td>NaN</td>\n",
              "      <td>My students need a projector to help with view...</td>\n",
              "      <td>7</td>\n",
              "      <td>History_Civics Health_Sports</td>\n",
              "      <td>Civics_Government TeamSports</td>\n",
              "      <td>Our students arrive to our school eager to lea...</td>\n",
              "      <td>our students arrive school eager learn. they p...</td>\n",
              "      <td>wanted: projector hungry learners</td>\n",
              "      <td>113</td>\n",
              "      <td>4</td>\n",
              "      <td>0.048</td>\n",
              "      <td>0.675</td>\n",
              "      <td>0.277</td>\n",
              "      <td>0.9853</td>\n",
              "      <td>299.00</td>\n",
              "      <td>1</td>\n",
              "    </tr>\n",
              "    <tr>\n",
              "      <th>2</th>\n",
              "      <td>21895</td>\n",
              "      <td>p182444</td>\n",
              "      <td>3465aaf82da834c0582ebd0ef8040ca0</td>\n",
              "      <td>Ms.</td>\n",
              "      <td>AZ</td>\n",
              "      <td>2016-08-31 12:03:56</td>\n",
              "      <td>Grades_6_8</td>\n",
              "      <td>Soccer Equipment for AWESOME Middle School Stu...</td>\n",
              "      <td>\\r\\n\\\"True champions aren't always the ones th...</td>\n",
              "      <td>The students on the campus come to school know...</td>\n",
              "      <td>NaN</td>\n",
              "      <td>NaN</td>\n",
              "      <td>My students need shine guards, athletic socks,...</td>\n",
              "      <td>1</td>\n",
              "      <td>Health_Sports</td>\n",
              "      <td>Health_Wellness TeamSports</td>\n",
              "      <td>\\r\\n\\\"True champions aren't always the ones th...</td>\n",
              "      <td>\\r\\n\\\"true champions not always ones win, guts...</td>\n",
              "      <td>soccer equipment awesome middle school students</td>\n",
              "      <td>200</td>\n",
              "      <td>6</td>\n",
              "      <td>0.103</td>\n",
              "      <td>0.684</td>\n",
              "      <td>0.213</td>\n",
              "      <td>0.9842</td>\n",
              "      <td>516.85</td>\n",
              "      <td>22</td>\n",
              "    </tr>\n",
              "    <tr>\n",
              "      <th>3</th>\n",
              "      <td>45</td>\n",
              "      <td>p246581</td>\n",
              "      <td>f3cb9bffbba169bef1a77b243e620b60</td>\n",
              "      <td>Mrs.</td>\n",
              "      <td>KY</td>\n",
              "      <td>2016-10-06 21:16:17</td>\n",
              "      <td>Grades_PreK_2</td>\n",
              "      <td>Techie Kindergarteners</td>\n",
              "      <td>I work at a unique school filled with both ESL...</td>\n",
              "      <td>My students live in high poverty conditions wi...</td>\n",
              "      <td>NaN</td>\n",
              "      <td>NaN</td>\n",
              "      <td>My students need to engage in Reading and Math...</td>\n",
              "      <td>4</td>\n",
              "      <td>Literacy_Language Math_Science</td>\n",
              "      <td>Literacy Mathematics</td>\n",
              "      <td>I work at a unique school filled with both ESL...</td>\n",
              "      <td>i work unique school filled esl (english secon...</td>\n",
              "      <td>techie kindergarteners</td>\n",
              "      <td>120</td>\n",
              "      <td>2</td>\n",
              "      <td>0.105</td>\n",
              "      <td>0.646</td>\n",
              "      <td>0.249</td>\n",
              "      <td>0.9681</td>\n",
              "      <td>232.90</td>\n",
              "      <td>4</td>\n",
              "    </tr>\n",
              "    <tr>\n",
              "      <th>4</th>\n",
              "      <td>172407</td>\n",
              "      <td>p104768</td>\n",
              "      <td>be1f7507a41f8479dc06f047086a39ec</td>\n",
              "      <td>Mrs.</td>\n",
              "      <td>TX</td>\n",
              "      <td>2016-07-11 01:10:09</td>\n",
              "      <td>Grades_PreK_2</td>\n",
              "      <td>Interactive Math Tools</td>\n",
              "      <td>Our second grade classroom next year will be m...</td>\n",
              "      <td>For many students, math is a subject that does...</td>\n",
              "      <td>NaN</td>\n",
              "      <td>NaN</td>\n",
              "      <td>My students need hands on practice in mathemat...</td>\n",
              "      <td>1</td>\n",
              "      <td>Math_Science</td>\n",
              "      <td>Mathematics</td>\n",
              "      <td>Our second grade classroom next year will be m...</td>\n",
              "      <td>our second grade classroom next year made arou...</td>\n",
              "      <td>interactive math tools</td>\n",
              "      <td>122</td>\n",
              "      <td>3</td>\n",
              "      <td>0.066</td>\n",
              "      <td>0.789</td>\n",
              "      <td>0.145</td>\n",
              "      <td>0.8627</td>\n",
              "      <td>67.98</td>\n",
              "      <td>4</td>\n",
              "    </tr>\n",
              "  </tbody>\n",
              "</table>\n",
              "</div>"
            ],
            "text/plain": [
              "   Unnamed: 0       id  ...   price quantity\n",
              "0      160221  p253737  ...  154.60       23\n",
              "1      140945  p258326  ...  299.00        1\n",
              "2       21895  p182444  ...  516.85       22\n",
              "3          45  p246581  ...  232.90        4\n",
              "4      172407  p104768  ...   67.98        4\n",
              "\n",
              "[5 rows x 27 columns]"
            ]
          },
          "metadata": {
            "tags": []
          },
          "execution_count": 28
        }
      ]
    },
    {
      "cell_type": "markdown",
      "metadata": {
        "id": "P4I60VW7oUHF",
        "colab_type": "text"
      },
      "source": [
        "## 1.5 Preparing data for models"
      ]
    },
    {
      "cell_type": "code",
      "metadata": {
        "id": "F_jrfczjoUHG",
        "colab_type": "code",
        "outputId": "e6878b7e-5406-4499-b75b-a20249d8d567",
        "colab": {
          "base_uri": "https://localhost:8080/",
          "height": 187
        }
      },
      "source": [
        "project_data.columns"
      ],
      "execution_count": 29,
      "outputs": [
        {
          "output_type": "execute_result",
          "data": {
            "text/plain": [
              "Index(['Unnamed: 0', 'id', 'teacher_id', 'teacher_prefix', 'school_state',\n",
              "       'project_submitted_datetime', 'project_grade_category', 'project_title',\n",
              "       'project_essay_1', 'project_essay_2', 'project_essay_3',\n",
              "       'project_essay_4', 'project_resource_summary',\n",
              "       'teacher_number_of_previously_posted_projects', 'clean_categories',\n",
              "       'clean_subcategories', 'essay', 'preprocessed_essays',\n",
              "       'preprocessed_project_title', 'essays_word_count', 'title_word_count',\n",
              "       'neg_score', 'neu_score', 'pos_score', 'compound_score', 'price',\n",
              "       'quantity'],\n",
              "      dtype='object')"
            ]
          },
          "metadata": {
            "tags": []
          },
          "execution_count": 29
        }
      ]
    },
    {
      "cell_type": "markdown",
      "metadata": {
        "id": "y1YePFvOoUHI",
        "colab_type": "text"
      },
      "source": [
        "we are going to consider\n",
        "\n",
        "       - school_state : categorical data\n",
        "       - clean_categories : categorical data\n",
        "       - clean_subcategories : categorical data\n",
        "       - project_grade_category : categorical data\n",
        "       - teacher_prefix : categorical data\n",
        "       \n",
        "       - project_title : text data\n",
        "       - text : text data\n",
        "       - project_resource_summary: text data (optinal)\n",
        "       \n",
        "       - quantity : numerical (optinal)\n",
        "       - teacher_number_of_previously_posted_projects : numerical\n",
        "       - price : numerical"
      ]
    },
    {
      "cell_type": "markdown",
      "metadata": {
        "id": "1xr5XNfxoUHJ",
        "colab_type": "text"
      },
      "source": [
        "### 1.5.1 Vectorizing Categorical data"
      ]
    },
    {
      "cell_type": "markdown",
      "metadata": {
        "id": "lxgwqyC5oUHK",
        "colab_type": "text"
      },
      "source": [
        "- https://www.appliedaicourse.com/course/applied-ai-course-online/lessons/handling-categorical-and-numerical-features/"
      ]
    },
    {
      "cell_type": "code",
      "metadata": {
        "id": "lDrby-kRMB1C",
        "colab_type": "code",
        "colab": {}
      },
      "source": [
        "# This is to store the feature names, while vectorizing the data.\n",
        "categorical_features=[]"
      ],
      "execution_count": 0,
      "outputs": []
    },
    {
      "cell_type": "code",
      "metadata": {
        "id": "taK2Q5YNoUHP",
        "colab_type": "code",
        "outputId": "6b3e14f5-3959-4a3b-a6ce-2c64d1af8c29",
        "colab": {
          "base_uri": "https://localhost:8080/",
          "height": 292
        }
      },
      "source": [
        "# you can do the similar thing with state, teacher_prefix and project_grade_category also\n",
        "# convert all categorical variables by one hot encoding\n",
        "def vectorize_cat_data(x_train, x_test, col_name): \n",
        "    #filling nan with NAN\n",
        "    x_train[col_name] = x_train[col_name].fillna('NAN')\n",
        "    #x_val[col_name] = x_val[col_name].fillna('NAN')\n",
        "    x_test[col_name] = x_test[col_name].fillna('NAN')\n",
        "    \n",
        "    vectorizer= CountVectorizer(lowercase=False, binary=True)\n",
        "    vectorizer.fit(x_train[col_name].values)\n",
        "    print(vectorizer.get_feature_names())\n",
        "    col_name_one_hot= vectorizer.transform(x_train[col_name].values)\n",
        "    # store the feature names of all categorical columns\n",
        "    categorical_features.extend(vectorizer.get_feature_names())\n",
        "    print(\"Shape of matrix after one hot encoding \",col_name_one_hot.shape,\"\\n\")\n",
        "    \n",
        "    return col_name_one_hot , vectorizer.transform(x_test[col_name].values)\n",
        "\n",
        "#clean_categories\n",
        "categories_one_hot_x_train, categories_one_hot_x_test = \\\n",
        "                                                    vectorize_cat_data(x_train, x_test, 'clean_categories')\n",
        "#clean_subcategories\n",
        "sub_categories_one_hot_x_train, sub_categories_one_hot_x_test = \\\n",
        "                                                    vectorize_cat_data(x_train, x_test, 'clean_subcategories')\n",
        "#school_state\n",
        "school_state_one_hot_x_train, school_state_one_hot_x_test = \\\n",
        "                                                    vectorize_cat_data(x_train, x_test, 'school_state')\n",
        "#teacher_prefix \n",
        "teacher_prefix_one_hot_x_train, teacher_prefix_one_hot_x_test = \\\n",
        "                                                    vectorize_cat_data(x_train, x_test, 'teacher_prefix')\n",
        "#project_grade_category\n",
        "project_grade_category_one_hot_x_train, project_grade_category_one_hot_x_test  = \\\n",
        "                                                    vectorize_cat_data(x_train, x_test, 'project_grade_category')\n"
      ],
      "execution_count": 31,
      "outputs": [
        {
          "output_type": "stream",
          "text": [
            "['AppliedLearning', 'Care_Hunger', 'Health_Sports', 'History_Civics', 'Literacy_Language', 'Math_Science', 'Music_Arts', 'SpecialNeeds', 'Warmth']\n",
            "Shape of matrix after one hot encoding  (87398, 9) \n",
            "\n",
            "['AppliedSciences', 'Care_Hunger', 'CharacterEducation', 'Civics_Government', 'College_CareerPrep', 'CommunityService', 'ESL', 'EarlyDevelopment', 'Economics', 'EnvironmentalScience', 'Extracurricular', 'FinancialLiteracy', 'ForeignLanguages', 'Gym_Fitness', 'Health_LifeScience', 'Health_Wellness', 'History_Geography', 'Literacy', 'Literature_Writing', 'Mathematics', 'Music', 'NutritionEducation', 'Other', 'ParentInvolvement', 'PerformingArts', 'SocialSciences', 'SpecialNeeds', 'TeamSports', 'VisualArts', 'Warmth']\n",
            "Shape of matrix after one hot encoding  (87398, 30) \n",
            "\n",
            "['AK', 'AL', 'AR', 'AZ', 'CA', 'CO', 'CT', 'DC', 'DE', 'FL', 'GA', 'HI', 'IA', 'ID', 'IL', 'IN', 'KS', 'KY', 'LA', 'MA', 'MD', 'ME', 'MI', 'MN', 'MO', 'MS', 'MT', 'NC', 'ND', 'NE', 'NH', 'NJ', 'NM', 'NV', 'NY', 'OH', 'OK', 'OR', 'PA', 'RI', 'SC', 'SD', 'TN', 'TX', 'UT', 'VA', 'VT', 'WA', 'WI', 'WV', 'WY']\n",
            "Shape of matrix after one hot encoding  (87398, 51) \n",
            "\n",
            "['Dr', 'Mr', 'Mrs', 'Ms', 'NAN', 'Teacher']\n",
            "Shape of matrix after one hot encoding  (87398, 6) \n",
            "\n",
            "['Grades_3_5', 'Grades_6_8', 'Grades_9_12', 'Grades_PreK_2']\n",
            "Shape of matrix after one hot encoding  (87398, 4) \n",
            "\n"
          ],
          "name": "stdout"
        }
      ]
    },
    {
      "cell_type": "markdown",
      "metadata": {
        "id": "k_rW-gxmoUHR",
        "colab_type": "text"
      },
      "source": [
        "### 1.5.2 Vectorizing Text data"
      ]
    },
    {
      "cell_type": "markdown",
      "metadata": {
        "id": "NMbzzOsPOh9p",
        "colab_type": "text"
      },
      "source": [
        "#### 1.5.2.1 Bag of words"
      ]
    },
    {
      "cell_type": "code",
      "metadata": {
        "id": "7dfCHNPwOh9p",
        "colab_type": "code",
        "outputId": "e10b7c3c-5a47-430b-c5d1-d23ffa2c7830",
        "colab": {
          "base_uri": "https://localhost:8080/",
          "height": 34
        }
      },
      "source": [
        "# We are considering only the words which appeared in at least 10 documents(rows or projects).\n",
        "# for essays\n",
        "vectorizer = CountVectorizer(min_df=10, stop_words= \"english\")\n",
        "#train data\n",
        "text_bow_x_train = vectorizer.fit_transform(x_train[\"preprocessed_essays\"])\n",
        "#validation data\n",
        "#text_bow_x_val = vectorizer.transform(x_val[\"preprocessed_essays\"])\n",
        "#test_data\n",
        "text_bow_x_test = vectorizer.transform(x_test[\"preprocessed_essays\"])\n",
        "\n",
        "print(\"Shape of matrix after one hot encodig \",text_bow_x_train.shape)"
      ],
      "execution_count": 32,
      "outputs": [
        {
          "output_type": "stream",
          "text": [
            "Shape of matrix after one hot encodig  (87398, 15559)\n"
          ],
          "name": "stdout"
        }
      ]
    },
    {
      "cell_type": "code",
      "metadata": {
        "id": "4O-uj3ieOh9s",
        "colab_type": "code",
        "outputId": "066b9e60-f2a4-4a56-e4f9-f9da22b68ac5",
        "colab": {
          "base_uri": "https://localhost:8080/",
          "height": 34
        }
      },
      "source": [
        "# you can vectorize the title also \n",
        "# before you vectorize the title make sure you preprocess it\n",
        "\n",
        "# for project_title\n",
        "vectorizer = CountVectorizer(min_df=6, stop_words= \"english\")\n",
        "#train data\n",
        "project_title_bow_x_train = vectorizer.fit_transform(x_train[\"preprocessed_project_title\"])\n",
        "#validation data\n",
        "#project_title_bow_x_val = vectorizer.transform(x_val[\"preprocessed_project_title\"])\n",
        "#test_data\n",
        "project_title_bow_x_test = vectorizer.transform(x_test[\"preprocessed_project_title\"])\n",
        "\n",
        "print(\"Shape of matrix after one hot encodig \",project_title_bow_x_train.shape)"
      ],
      "execution_count": 33,
      "outputs": [
        {
          "output_type": "stream",
          "text": [
            "Shape of matrix after one hot encodig  (87398, 3848)\n"
          ],
          "name": "stdout"
        }
      ]
    },
    {
      "cell_type": "markdown",
      "metadata": {
        "id": "z2gxZ2ogOh9w",
        "colab_type": "text"
      },
      "source": [
        "#### 1.5.2.2 TFIDF vectorizer"
      ]
    },
    {
      "cell_type": "code",
      "metadata": {
        "id": "T8uozAbyOh9x",
        "colab_type": "code",
        "outputId": "b12de609-f1c2-4cd7-f01c-548a241c6934",
        "colab": {
          "base_uri": "https://localhost:8080/",
          "height": 34
        }
      },
      "source": [
        "from sklearn.feature_extraction.text import TfidfVectorizer\n",
        "vectorizer = TfidfVectorizer(min_df=10, stop_words= \"english\")\n",
        "#train_data\n",
        "text_tfidf_x_train = vectorizer.fit_transform(x_train[\"preprocessed_essays\"])\n",
        "#validation data\n",
        "#text_tfidf_x_val = vectorizer.transform(x_val[\"preprocessed_essays\"])\n",
        "#test_data\n",
        "text_tfidf_x_test = vectorizer.transform(x_test[\"preprocessed_essays\"])\n",
        "\n",
        "print(\"Shape of matrix after one hot encoding \",text_tfidf_x_train.shape, text_tfidf_x_test.shape)"
      ],
      "execution_count": 34,
      "outputs": [
        {
          "output_type": "stream",
          "text": [
            "Shape of matrix after one hot encoding  (87398, 15559) (21850, 15559)\n"
          ],
          "name": "stdout"
        }
      ]
    },
    {
      "cell_type": "code",
      "metadata": {
        "id": "DjnbHW4a2oZJ",
        "colab_type": "code",
        "outputId": "08a8180b-8882-4beb-80a1-93e4fd043ef8",
        "colab": {
          "base_uri": "https://localhost:8080/",
          "height": 34
        }
      },
      "source": [
        "vectorizer = TfidfVectorizer(min_df=6, stop_words= \"english\")\n",
        "#train data\n",
        "project_title_tfidf_x_train = vectorizer.fit_transform(x_train[\"preprocessed_project_title\"])\n",
        "#validation data\n",
        "#project_title_tfidf_x_val = vectorizer.transform(x_val[\"preprocessed_project_title\"])\n",
        "#test_data\n",
        "project_title_tfidf_x_test = vectorizer.transform(x_test[\"preprocessed_project_title\"])\n",
        "\n",
        "print(\"Shape of matrix after one hot encodig \",project_title_tfidf_x_train.shape, project_title_tfidf_x_test.shape)"
      ],
      "execution_count": 35,
      "outputs": [
        {
          "output_type": "stream",
          "text": [
            "Shape of matrix after one hot encodig  (87398, 3848) (21850, 3848)\n"
          ],
          "name": "stdout"
        }
      ]
    },
    {
      "cell_type": "markdown",
      "metadata": {
        "id": "73m5MNjoOh90",
        "colab_type": "text"
      },
      "source": [
        "#### 1.5.2.3 Using Pretrained Models: Avg W2V"
      ]
    },
    {
      "cell_type": "code",
      "metadata": {
        "id": "Lw3Z1hdgOh90",
        "colab_type": "code",
        "cellView": "both",
        "outputId": "1f0f9cbe-9a18-41b9-f996-1d3748cc008a",
        "colab": {
          "base_uri": "https://localhost:8080/",
          "height": 54
        }
      },
      "source": [
        "#@title\n",
        "'''\n",
        "# Reading glove vectors in python: https://stackoverflow.com/a/38230349/4084039\n",
        "def loadGloveModel(gloveFile):\n",
        "    print (\"Loading Glove Model\")\n",
        "    f = open(gloveFile,'r', encoding=\"utf8\")\n",
        "    model = {}\n",
        "    for line in tqdm(f):\n",
        "        splitLine = line.split()\n",
        "        word = splitLine[0]\n",
        "        embedding = np.array([float(val) for val in splitLine[1:]])\n",
        "        model[word] = embedding\n",
        "    print (\"Done.\",len(model),\" words loaded!\")\n",
        "    return model\n",
        "model = loadGloveModel('glove.42B.300d.txt')\n",
        "\n",
        "# ============================\n",
        "Output:\n",
        "    \n",
        "Loading Glove Model\n",
        "1917495it [06:32, 4879.69it/s]\n",
        "Done. 1917495  words loaded!\n",
        "\n",
        "# ============================\n",
        "\n",
        "words = []\n",
        "for i in preproced_texts:\n",
        "    words.extend(i.split(' '))\n",
        "\n",
        "for i in preproced_titles:\n",
        "    words.extend(i.split(' '))\n",
        "print(\"all the words in the coupus\", len(words))\n",
        "words = set(words)\n",
        "print(\"the unique words in the coupus\", len(words))\n",
        "\n",
        "inter_words = set(model.keys()).intersection(words)\n",
        "print(\"The number of words that are present in both glove vectors and our coupus\", \\\n",
        "      len(inter_words),\"(\",np.round(len(inter_words)/len(words)*100,3),\"%)\")\n",
        "\n",
        "words_courpus = {}\n",
        "words_glove = set(model.keys())\n",
        "for i in words:\n",
        "    if i in words_glove:\n",
        "        words_courpus[i] = model[i]\n",
        "print(\"word 2 vec length\", len(words_courpus))\n",
        "\n",
        "\n",
        "# stronging variables into pickle files python: http://www.jessicayung.com/how-to-use-pickle-to-save-and-load-variables-in-python/\n",
        "\n",
        "import pickle\n",
        "with open('glove_vectors', 'wb') as f:\n",
        "    pickle.dump(words_courpus, f)\n",
        "\n",
        "\n",
        "'''"
      ],
      "execution_count": 36,
      "outputs": [
        {
          "output_type": "execute_result",
          "data": {
            "text/plain": [
              "'\\n# Reading glove vectors in python: https://stackoverflow.com/a/38230349/4084039\\ndef loadGloveModel(gloveFile):\\n    print (\"Loading Glove Model\")\\n    f = open(gloveFile,\\'r\\', encoding=\"utf8\")\\n    model = {}\\n    for line in tqdm(f):\\n        splitLine = line.split()\\n        word = splitLine[0]\\n        embedding = np.array([float(val) for val in splitLine[1:]])\\n        model[word] = embedding\\n    print (\"Done.\",len(model),\" words loaded!\")\\n    return model\\nmodel = loadGloveModel(\\'glove.42B.300d.txt\\')\\n\\n# ============================\\nOutput:\\n    \\nLoading Glove Model\\n1917495it [06:32, 4879.69it/s]\\nDone. 1917495  words loaded!\\n\\n# ============================\\n\\nwords = []\\nfor i in preproced_texts:\\n    words.extend(i.split(\\' \\'))\\n\\nfor i in preproced_titles:\\n    words.extend(i.split(\\' \\'))\\nprint(\"all the words in the coupus\", len(words))\\nwords = set(words)\\nprint(\"the unique words in the coupus\", len(words))\\n\\ninter_words = set(model.keys()).intersection(words)\\nprint(\"The number of words that are present in both glove vectors and our coupus\",       len(inter_words),\"(\",np.round(len(inter_words)/len(words)*100,3),\"%)\")\\n\\nwords_courpus = {}\\nwords_glove = set(model.keys())\\nfor i in words:\\n    if i in words_glove:\\n        words_courpus[i] = model[i]\\nprint(\"word 2 vec length\", len(words_courpus))\\n\\n\\n# stronging variables into pickle files python: http://www.jessicayung.com/how-to-use-pickle-to-save-and-load-variables-in-python/\\n\\nimport pickle\\nwith open(\\'glove_vectors\\', \\'wb\\') as f:\\n    pickle.dump(words_courpus, f)\\n\\n\\n'"
            ]
          },
          "metadata": {
            "tags": []
          },
          "execution_count": 36
        }
      ]
    },
    {
      "cell_type": "code",
      "metadata": {
        "id": "J4sL80mSOh93",
        "colab_type": "code",
        "cellView": "both",
        "colab": {}
      },
      "source": [
        "#@title\n",
        "# # stronging variables into pickle files python: http://www.jessicayung.com/how-to-use-pickle-to-save-and-load-variables-in-python/\n",
        "# # make sure you have the glove_vectors file\n",
        "# with open('glove_vectors', 'rb') as f:\n",
        "#     model = pickle.load(f)\n",
        "#     glove_words =  set(model.keys())"
      ],
      "execution_count": 0,
      "outputs": []
    },
    {
      "cell_type": "code",
      "metadata": {
        "scrolled": true,
        "id": "HXVbeaR6Oh96",
        "colab_type": "code",
        "outputId": "65cc5db2-ad6e-4e7f-e8c3-b19fc1e6ed21",
        "colab": {
          "base_uri": "https://localhost:8080/",
          "height": 85
        }
      },
      "source": [
        "#Word2vec is given with all the training data\n",
        "all_data =  list(map(lambda x:x.split() , list(x_train[\"preprocessed_essays\"])+list(x_train[\"preprocessed_project_title\"]) ))\n",
        "word2vec = Word2Vec(all_data, min_count=2, size=100, sg=0, workers=3)#cbow\n",
        "\n",
        "# average Word2Vec\n",
        "# compute average word2vec for each review.\n",
        "def get_avg_w2v_vectors(preprocessed_essays):\n",
        "    avg_w2v_vectors = []; # the avg-w2v for each sentence/review is stored in this list\n",
        "    for sentence in tqdm(preprocessed_essays): # for each review/sentence\n",
        "        vector = np.zeros(100) # as word vectors are of zero length\n",
        "        cnt_words =0; # num of words with a valid vector in the sentence/review\n",
        "        for word in sentence.split(): # for each word in a review/sentence            \n",
        "            try:\n",
        "                vector += word2vec.wv[word]\n",
        "            except:\n",
        "                pass\n",
        "            cnt_words += 1\n",
        "        if cnt_words != 0:\n",
        "            vector /= cnt_words\n",
        "        avg_w2v_vectors.append(vector)\n",
        "    return np.array(avg_w2v_vectors).reshape(-1,100)\n",
        "    \n",
        "# vectorize preprocessed_essays using avg-word2vec\n",
        "avg_w2v_text_x_train = get_avg_w2v_vectors(x_train[\"preprocessed_essays\"])\n",
        "#avg_w2v_text_x_val = get_avg_w2v_vectors(x_val[\"preprocessed_essays\"])\n",
        "avg_w2v_text_x_test = get_avg_w2v_vectors(x_test[\"preprocessed_essays\"])\n",
        "\n",
        "# Similarly you can vectorize for project_title also\n",
        "avg_w2v_project_title_x_train = get_avg_w2v_vectors(x_train[\"preprocessed_project_title\"])\n",
        "#avg_w2v_project_title_x_val = get_avg_w2v_vectors(x_val[\"preprocessed_project_title\"])\n",
        "avg_w2v_project_title_x_test = get_avg_w2v_vectors(x_test[\"preprocessed_project_title\"])"
      ],
      "execution_count": 38,
      "outputs": [
        {
          "output_type": "stream",
          "text": [
            "100%|██████████| 87398/87398 [00:53<00:00, 1630.20it/s]\n",
            "100%|██████████| 21850/21850 [00:13<00:00, 1636.39it/s]\n",
            "100%|██████████| 87398/87398 [00:02<00:00, 39637.16it/s]\n",
            "100%|██████████| 21850/21850 [00:00<00:00, 39995.31it/s]\n"
          ],
          "name": "stderr"
        }
      ]
    },
    {
      "cell_type": "markdown",
      "metadata": {
        "id": "pAcQahGBOh99",
        "colab_type": "text"
      },
      "source": [
        "#### 1.5.2.3 Using Pretrained Models: TFIDF weighted W2V"
      ]
    },
    {
      "cell_type": "code",
      "metadata": {
        "id": "PhfDIGZzOh9-",
        "colab_type": "code",
        "colab": {}
      },
      "source": [
        "# S = [\"abc def pqr\", \"def def def abc\", \"pqr pqr def\"]\n",
        "tfidf_model = TfidfVectorizer()\n",
        "tfidf_model.fit(x_train[\"preprocessed_essays\"])\n",
        "# we are converting a dictionary with word as a key, and the idf as a value\n",
        "dictionary = dict(zip(tfidf_model.get_feature_names(), list(tfidf_model.idf_)))\n",
        "tfidf_words = set(tfidf_model.get_feature_names())"
      ],
      "execution_count": 0,
      "outputs": []
    },
    {
      "cell_type": "code",
      "metadata": {
        "scrolled": true,
        "id": "SVuQKgh1Oh-A",
        "colab_type": "code",
        "outputId": "2306faeb-e641-46f1-f9c5-b916cf8636c8",
        "colab": {
          "base_uri": "https://localhost:8080/",
          "height": 51
        }
      },
      "source": [
        "# average Word2Vec\n",
        "# compute average word2vec for each review.\n",
        "def get_tfidf_w2v_vectors(preprocessed_essays):\n",
        "    tfidf_w2v_vectors = []; # the avg-w2v for each sentence/review is stored in this list\n",
        "    for sentence in tqdm(preprocessed_essays): # for each review/sentence\n",
        "        vector = np.zeros(100) # as word vectors are of zero length\n",
        "        tf_idf_weight =0; # num of words with a valid vector in the sentence/review\n",
        "        for word in sentence.split(): # for each word in a review/sentence\n",
        "            try:\n",
        "                vec += word2vec.wv[word]\n",
        "                # here we are multiplying idf value(dictionary[word]) and the tf value((sentence.count(word)/len(sentence.split())))\n",
        "                tf_idf = dictionary[word]*(sentence.count(word)/len(sentence.split())) # getting the tfidf value for each word\n",
        "                vector += (vec * tf_idf) # calculating tfidf weighted w2v\n",
        "                tf_idf_weight += tf_idf\n",
        "            except:\n",
        "                pass\n",
        "        if tf_idf_weight != 0:\n",
        "            vector /= tf_idf_weight\n",
        "        tfidf_w2v_vectors.append(vector)\n",
        "    return np.array(tfidf_w2v_vectors).reshape(-1,100)\n",
        "  \n",
        "# preprocessing essays, using TFIDF-W2V \n",
        "tfidf_w2v_text_x_train = get_tfidf_w2v_vectors(x_train[\"preprocessed_essays\"])\n",
        "#tfidf_w2v_text_x_val = get_tfidf_w2v_vectors(x_val[\"preprocessed_essays\"])\n",
        "tfidf_w2v_text_x_test = get_tfidf_w2v_vectors(x_test[\"preprocessed_essays\"])"
      ],
      "execution_count": 40,
      "outputs": [
        {
          "output_type": "stream",
          "text": [
            "100%|██████████| 87398/87398 [00:07<00:00, 12203.65it/s]\n",
            "100%|██████████| 21850/21850 [00:01<00:00, 15789.33it/s]\n"
          ],
          "name": "stderr"
        }
      ]
    },
    {
      "cell_type": "code",
      "metadata": {
        "id": "FiEp6kieOh-G",
        "colab_type": "code",
        "outputId": "e7446355-89ca-40fa-d506-4de2037f3a24",
        "colab": {
          "base_uri": "https://localhost:8080/",
          "height": 51
        }
      },
      "source": [
        "# Similarly you can vectorize for title also\n",
        "tfidf_model = TfidfVectorizer()\n",
        "tfidf_model.fit(x_train[\"preprocessed_project_title\"])\n",
        "dictionary = dict(zip(tfidf_model.get_feature_names(), tfidf_model.idf_))\n",
        "tfidf_words = dictionary.keys()\n",
        "\n",
        "# average Word2Vec\n",
        "# compute average word2vec for each project_title.\n",
        "def get_tfidf_w2v_project_title_vectors(preprocessed_project_title):\n",
        "    tfidf_w2v_project_title_vectors = [];\n",
        "    for sentence in tqdm(preprocessed_project_title):\n",
        "        vector= np.zeros(100)\n",
        "        tf_idf_weight =0\n",
        "        for word in sentence.split(): \n",
        "            if (word in word2vec.wv.vocab) and (word in tfidf_words):               \n",
        "                tf_idf = dictionary[word]*(sentence.count(word)/len(sentence.split())) # getting the tfidf value for each word\n",
        "                vector += (word2vec.wv[word] * tf_idf) # calculating tfidf weighted w2v\n",
        "                tf_idf_weight += tf_idf\n",
        "        if tf_idf_weight != 0:\n",
        "            vector /= tf_idf_weight\n",
        "        tfidf_w2v_project_title_vectors.append(vector)\n",
        "    return np.array(tfidf_w2v_project_title_vectors).reshape(-1,100)\n",
        "   \n",
        "tfidf_w2v_project_title_x_train = get_tfidf_w2v_project_title_vectors(x_train[\"preprocessed_project_title\"])\n",
        "#tfidf_w2v_project_title_x_val = get_tfidf_w2v_project_title_vectors(x_val[\"preprocessed_project_title\"])\n",
        "tfidf_w2v_project_title_x_test = get_tfidf_w2v_project_title_vectors(x_test[\"preprocessed_project_title\"])"
      ],
      "execution_count": 41,
      "outputs": [
        {
          "output_type": "stream",
          "text": [
            "100%|██████████| 87398/87398 [00:03<00:00, 24941.62it/s]\n",
            "100%|██████████| 21850/21850 [00:00<00:00, 26729.97it/s]\n"
          ],
          "name": "stderr"
        }
      ]
    },
    {
      "cell_type": "markdown",
      "metadata": {
        "id": "nrHWjPsrOh-I",
        "colab_type": "text"
      },
      "source": [
        "### 1.5.3 Vectorizing Numerical features"
      ]
    },
    {
      "cell_type": "code",
      "metadata": {
        "id": "81MCqG8wOh-M",
        "colab_type": "code",
        "colab": {}
      },
      "source": [
        "# check this one: https://www.youtube.com/watch?v=0HOqOcln3Z4&t=530s\n",
        "# standardization sklearn: https://scikit-learn.org/stable/modules/generated/sklearn.preprocessing.StandardScaler.html\n",
        "from sklearn.preprocessing import StandardScaler\n",
        "# price_standardized = standardScalar.fit(project_data['price'].values)\n",
        "# this will rise the error\n",
        "# ValueError: Expected 2D array, got 1D array instead: array=[725.05 213.03 329.   ... 399.   287.73   5.5 ].\n",
        "# Reshape your data either using array.reshape(-1, 1)\n",
        "\n",
        "\n",
        "# check this one: https://www.youtube.com/watch?v=0HOqOcln3Z4&t=530s\n",
        "# standardization sklearn: https://scikit-learn.org/stable/modules/generated/sklearn.preprocessing.StandardScaler.html\n",
        "from sklearn.preprocessing import StandardScaler, Normalizer\n",
        "#This function return the normalized data.\n",
        "def standardize_data(x_train, x_test, column):   \n",
        "    scalar = StandardScaler()\n",
        "    scalar.fit(x_train[column].values.reshape(-1,1))\n",
        "    std_scalar_x_train = scalar.transform(x_train[column].values.reshape(-1,1))\n",
        "    #std_scalar_x_val = scalar.transform(x_val[column].values.reshape(-1,1))\n",
        "    std_scalar_x_test = scalar.transform(x_test[column].values.reshape(-1,1))\n",
        "    return std_scalar_x_train, std_scalar_x_test\n"
      ],
      "execution_count": 0,
      "outputs": []
    },
    {
      "cell_type": "code",
      "metadata": {
        "id": "9dL6HOT43wjV",
        "colab_type": "code",
        "colab": {}
      },
      "source": [
        "price_standardized_x_train, price_standardized_x_test = \\\n",
        "                                        standardize_data(x_train, x_test, \"price\")\n",
        "\n",
        "quantity_standardized_x_train, quantity_standardized_x_test = \\\n",
        "                                        standardize_data(x_train, x_test, \"quantity\")\n",
        "\n",
        "teacher_prev_projects_standardized_x_train, teacher_prev_projects_standardized_x_test = \\\n",
        "                                        standardize_data(x_train, x_test, \"teacher_number_of_previously_posted_projects\")\n",
        "\n",
        "#################### Newly added features\n",
        "essaywc_standardized_x_train, essaywc_standardized_x_test = \\\n",
        "                                        standardize_data(x_train, x_test, \"essays_word_count\")\n",
        "\n",
        "titlewc_standardized_x_train, titlewc_standardized_x_test = \\\n",
        "                                        standardize_data(x_train, x_test, \"title_word_count\")\n",
        "\n",
        "neg_standardized_x_train, neg_standardized_x_test = \\\n",
        "                                        standardize_data(x_train, x_test, \"neg_score\")\n",
        "\n",
        "neu_standardized_x_train, neu_standardized_x_test = \\\n",
        "                                        standardize_data(x_train, x_test, \"neu_score\")\n",
        "\n",
        "pos_standardized_x_train, pos_standardized_x_test = \\\n",
        "                                        standardize_data(x_train, x_test, \"pos_score\")\n",
        "\n",
        "compound_standardized_x_train, compound_standardized_x_test = \\\n",
        "                                        standardize_data(x_train, x_test, \"compound_score\")"
      ],
      "execution_count": 0,
      "outputs": []
    },
    {
      "cell_type": "code",
      "metadata": {
        "id": "XrtfOp1GySDy",
        "colab_type": "code",
        "colab": {}
      },
      "source": [
        "# school_state_one_hot_x_train, categories_one_hot_x_train, sub_categories_one_hot_x_train,\\\n",
        "#             project_grade_category_one_hot_x_train, teacher_prefix_one_hot_x_train,\\\n",
        "\n",
        "#             quantity_standardized_x_train, teacher_prev_projects_standardized_x_train, price_standardized_x_train,\\\n",
        "#             neg_standardized_x_train, neu_standardized_x_train, pos_standardized_x_train, compound_standardized_x_train,\\\n",
        "#             titlewc_standardized_x_train, essaywc_standardized_x_train\n",
        "\n",
        "\n",
        "numerical_features = [\"quantity\", \"teacher_prev_projects\", \"price\", \"essay_wordcount\", \"neg_sentiment_score\" ,\"neu_sentiment_score\",\n",
        "                     \"pos_sentiment_score\", \"compound_score\", \"title_wordcount\", \"essay_wordcount\"]\n"
      ],
      "execution_count": 0,
      "outputs": []
    },
    {
      "cell_type": "code",
      "metadata": {
        "id": "J_C6r8cyOh-P",
        "colab_type": "code",
        "outputId": "40c154a7-d3bb-4fcc-8e33-f3bfde845180",
        "colab": {
          "base_uri": "https://localhost:8080/",
          "height": 136
        }
      },
      "source": [
        "price_standardized_x_train\n",
        "compound_standardized_x_train"
      ],
      "execution_count": 45,
      "outputs": [
        {
          "output_type": "execute_result",
          "data": {
            "text/plain": [
              "array([[-1.48687634],\n",
              "       [ 0.16744921],\n",
              "       [ 0.22544947],\n",
              "       ...,\n",
              "       [ 0.16283555],\n",
              "       [-0.613577  ],\n",
              "       [ 0.25576778]])"
            ]
          },
          "metadata": {
            "tags": []
          },
          "execution_count": 45
        }
      ]
    },
    {
      "cell_type": "markdown",
      "metadata": {
        "id": "m8vQHRmfoUHr",
        "colab_type": "text"
      },
      "source": [
        "### 1.5.4 Merging all the above features"
      ]
    },
    {
      "cell_type": "markdown",
      "metadata": {
        "id": "MeqZCqa4oUHs",
        "colab_type": "text"
      },
      "source": [
        "- we need to merge all the numerical vectors i.e catogorical, text, numerical vectors"
      ]
    },
    {
      "cell_type": "code",
      "metadata": {
        "id": "uwOhjmBBOh-T",
        "colab_type": "code",
        "outputId": "9bf29c72-939c-4cf8-cefe-eeae770c2aac",
        "colab": {
          "base_uri": "https://localhost:8080/",
          "height": 272
        }
      },
      "source": [
        "print(categories_one_hot_x_train.shape)\n",
        "print(sub_categories_one_hot_x_train.shape)\n",
        "print(school_state_one_hot_x_train.shape)\n",
        "print(teacher_prefix_one_hot_x_train.shape)\n",
        "print(project_grade_category_one_hot_x_train.shape)\n",
        "\n",
        "print(text_bow_x_train.shape)\n",
        "print(project_title_bow_x_train.shape)\n",
        "\n",
        "print(text_tfidf_x_train.shape)\n",
        "print(project_title_tfidf_x_train.shape)\n",
        "\n",
        "print(avg_w2v_text_x_train.shape)\n",
        "print(avg_w2v_project_title_x_train.shape)\n",
        "\n",
        "print(tfidf_w2v_text_x_train.shape)\n",
        "print(tfidf_w2v_project_title_x_train.shape)\n",
        "\n",
        "print(\"\")\n",
        "\n",
        "print(quantity_standardized_x_train.shape , essaywc_standardized_x_test.shape)"
      ],
      "execution_count": 46,
      "outputs": [
        {
          "output_type": "stream",
          "text": [
            "(87398, 9)\n",
            "(87398, 30)\n",
            "(87398, 51)\n",
            "(87398, 6)\n",
            "(87398, 4)\n",
            "(87398, 15559)\n",
            "(87398, 3848)\n",
            "(87398, 15559)\n",
            "(87398, 3848)\n",
            "(87398, 100)\n",
            "(87398, 100)\n",
            "(87398, 100)\n",
            "(87398, 100)\n",
            "\n",
            "(87398, 1) (21850, 1)\n"
          ],
          "name": "stdout"
        }
      ]
    },
    {
      "cell_type": "code",
      "metadata": {
        "id": "yp6yXOGOOh-X",
        "colab_type": "code",
        "outputId": "fc5a1f2f-f97f-4cd3-8618-37d4b2aaa326",
        "colab": {
          "base_uri": "https://localhost:8080/",
          "height": 51
        }
      },
      "source": [
        "# merge two sparse matrices: https://stackoverflow.com/a/19710648/4084039\n",
        "from scipy.sparse import hstack, vstack \n",
        "\n",
        "#set1 =  [categorical, numerical, project_title(BOW) , preprocessed_essay (BOW)]\n",
        "X_train_set1 = hstack((school_state_one_hot_x_train, categories_one_hot_x_train, sub_categories_one_hot_x_train,\\\n",
        "            teacher_prefix_one_hot_x_train, project_grade_category_one_hot_x_train,\\\n",
        "            price_standardized_x_train, teacher_prev_projects_standardized_x_train, quantity_standardized_x_train, \\\n",
        "            project_title_bow_x_train, text_bow_x_train))\n",
        "\n",
        "# X_val_set1 = hstack((school_state_one_hot_x_val, categories_one_hot_x_val, sub_categories_one_hot_x_val,\\\n",
        "#             teacher_prefix_one_hot_x_val, project_grade_category_one_hot_x_val,\\\n",
        "#             price_standardized_x_val, teacher_prev_projects_standardized_x_val, quantity_standardized_x_val, \\\n",
        "#             project_title_bow_x_val, text_bow_x_val))\n",
        "\n",
        "X_test_set1 = hstack((school_state_one_hot_x_test, categories_one_hot_x_test, sub_categories_one_hot_x_test,\\\n",
        "            teacher_prefix_one_hot_x_test, project_grade_category_one_hot_x_test,\\\n",
        "            price_standardized_x_test, teacher_prev_projects_standardized_x_test, quantity_standardized_x_test, \\\n",
        "            project_title_bow_x_test, text_bow_x_test))\n",
        "\n",
        "print(\"x_train {0} | y_train {1} \".format(X_train_set1.shape , y_train.shape))\n",
        "#print(\"x_val   {0} | y_val   {1} \".format(X_val_set1.shape , y_val.shape))\n",
        "print(\"x_test  {0} | y_test  {1} \".format(X_test_set1.shape , y_test.shape))"
      ],
      "execution_count": 47,
      "outputs": [
        {
          "output_type": "stream",
          "text": [
            "x_train (87398, 19510) | y_train (87398,) \n",
            "x_test  (21850, 19510) | y_test  (21850,) \n"
          ],
          "name": "stdout"
        }
      ]
    },
    {
      "cell_type": "code",
      "metadata": {
        "id": "ygjojAxespFO",
        "colab_type": "code",
        "outputId": "39a68a38-ffef-44c3-a8d5-f82d8dba1e46",
        "colab": {
          "base_uri": "https://localhost:8080/",
          "height": 51
        }
      },
      "source": [
        "X_train_set2 = hstack((school_state_one_hot_x_train, categories_one_hot_x_train, sub_categories_one_hot_x_train,\\\n",
        "            teacher_prefix_one_hot_x_train, project_grade_category_one_hot_x_train,\\\n",
        "            price_standardized_x_train, teacher_prev_projects_standardized_x_train, quantity_standardized_x_train, \\\n",
        "            project_title_tfidf_x_train , text_tfidf_x_train ))\n",
        "\n",
        "\n",
        "# X_val_set2 = hstack((school_state_one_hot_x_val, categories_one_hot_x_val, sub_categories_one_hot_x_val,\\\n",
        "#             teacher_prefix_one_hot_x_val, project_grade_category_one_hot_x_val,\\\n",
        "#             price_standardized_x_val, teacher_prev_projects_standardized_x_val, quantity_standardized_x_val, \\\n",
        "#             project_title_tfidf_x_val, text_tfidf_x_val))\n",
        "\n",
        "X_test_set2 = hstack((school_state_one_hot_x_test, categories_one_hot_x_test, sub_categories_one_hot_x_test,\\\n",
        "            teacher_prefix_one_hot_x_test, project_grade_category_one_hot_x_test,\\\n",
        "            price_standardized_x_test, teacher_prev_projects_standardized_x_test, quantity_standardized_x_test, \\\n",
        "            project_title_tfidf_x_test, text_tfidf_x_test))\n",
        "\n",
        "print(\"x_train {0} | y_train {1} \".format(X_train_set2.shape , y_train.shape))\n",
        "#print(\"x_val   {0} | y_val   {1} \".format(X_val_set2.shape , y_val.shape))\n",
        "print(\"x_test  {0} | y_test  {1} \".format(X_test_set2.shape , y_test.shape))"
      ],
      "execution_count": 48,
      "outputs": [
        {
          "output_type": "stream",
          "text": [
            "x_train (87398, 19510) | y_train (87398,) \n",
            "x_test  (21850, 19510) | y_test  (21850,) \n"
          ],
          "name": "stdout"
        }
      ]
    },
    {
      "cell_type": "code",
      "metadata": {
        "id": "XxFRa7Gtso_y",
        "colab_type": "code",
        "outputId": "16ec9829-9835-494a-f2d9-13fdd92f94a4",
        "colab": {
          "base_uri": "https://localhost:8080/",
          "height": 51
        }
      },
      "source": [
        "X_train_set3 = hstack((school_state_one_hot_x_train, categories_one_hot_x_train, sub_categories_one_hot_x_train,\\\n",
        "            teacher_prefix_one_hot_x_train, project_grade_category_one_hot_x_train,\\\n",
        "            price_standardized_x_train, teacher_prev_projects_standardized_x_train, quantity_standardized_x_train, \\\n",
        "            avg_w2v_project_title_x_train, avg_w2v_text_x_train))\n",
        "\n",
        "# X_val_set3 =  hstack((school_state_one_hot_x_val, categories_one_hot_x_val, sub_categories_one_hot_x_val,\\\n",
        "#             teacher_prefix_one_hot_x_val, project_grade_category_one_hot_x_val,\\\n",
        "#             price_standardized_x_val, teacher_prev_projects_standardized_x_val, quantity_standardized_x_val, \\\n",
        "#             avg_w2v_project_title_x_val, avg_w2v_text_x_val))\n",
        "\n",
        "X_test_set3 = hstack((school_state_one_hot_x_test, categories_one_hot_x_test, sub_categories_one_hot_x_test,\\\n",
        "            teacher_prefix_one_hot_x_test, project_grade_category_one_hot_x_test,\\\n",
        "            price_standardized_x_test, teacher_prev_projects_standardized_x_test, quantity_standardized_x_test, \\\n",
        "            avg_w2v_project_title_x_test, avg_w2v_text_x_test))\n",
        "\n",
        "print(\"x_train {0} | y_train {1} \".format(X_train_set3.shape , y_train.shape))\n",
        "#print(\"x_val   {0} | y_val   {1} \".format(X_val_set3.shape , y_val.shape))\n",
        "print(\"x_test  {0} | y_test  {1} \".format(X_test_set3.shape , y_test.shape))"
      ],
      "execution_count": 49,
      "outputs": [
        {
          "output_type": "stream",
          "text": [
            "x_train (87398, 303) | y_train (87398,) \n",
            "x_test  (21850, 303) | y_test  (21850,) \n"
          ],
          "name": "stdout"
        }
      ]
    },
    {
      "cell_type": "code",
      "metadata": {
        "id": "EcfRRtkxso7U",
        "colab_type": "code",
        "outputId": "2f6a366c-ab89-40fc-abbb-01ce7d31f685",
        "colab": {
          "base_uri": "https://localhost:8080/",
          "height": 51
        }
      },
      "source": [
        "X_train_set4 = hstack((school_state_one_hot_x_train, categories_one_hot_x_train, sub_categories_one_hot_x_train,\\\n",
        "            teacher_prefix_one_hot_x_train, project_grade_category_one_hot_x_train,\\\n",
        "            price_standardized_x_train, teacher_prev_projects_standardized_x_train, quantity_standardized_x_train, \\\n",
        "            tfidf_w2v_project_title_x_train, tfidf_w2v_text_x_train))\n",
        "  \n",
        "# X_val_set4 = hstack((school_state_one_hot_x_val, categories_one_hot_x_val, sub_categories_one_hot_x_val,\\\n",
        "#             teacher_prefix_one_hot_x_val, project_grade_category_one_hot_x_val,\\\n",
        "#             price_standardized_x_val, teacher_prev_projects_standardized_x_val, quantity_standardized_x_val, \\\n",
        "#             tfidf_w2v_project_title_x_val, tfidf_w2v_text_x_val))\n",
        "\n",
        "X_test_set4 = hstack((school_state_one_hot_x_test, categories_one_hot_x_test, sub_categories_one_hot_x_test,\\\n",
        "            teacher_prefix_one_hot_x_test, project_grade_category_one_hot_x_test,\\\n",
        "            price_standardized_x_test, teacher_prev_projects_standardized_x_test, quantity_standardized_x_test, \\\n",
        "            tfidf_w2v_project_title_x_test, tfidf_w2v_text_x_test))\n",
        "\n",
        "print(\"x_train {0} | y_train {1} \".format(X_train_set4.shape , y_train.shape))\n",
        "#print(\"x_val   {0} | y_val   {1} \".format(X_val_set4.shape , y_val.shape))\n",
        "print(\"x_test  {0} | y_test  {1} \".format(X_test_set4.shape , y_test.shape))"
      ],
      "execution_count": 50,
      "outputs": [
        {
          "output_type": "stream",
          "text": [
            "x_train (87398, 303) | y_train (87398,) \n",
            "x_test  (21850, 303) | y_test  (21850,) \n"
          ],
          "name": "stdout"
        }
      ]
    },
    {
      "cell_type": "code",
      "metadata": {
        "id": "rMoIe1ISso0W",
        "colab_type": "code",
        "outputId": "1e0cbb8a-5163-4144-a23c-981ff2dfd0db",
        "colab": {
          "base_uri": "https://localhost:8080/",
          "height": 51
        }
      },
      "source": [
        "X_train_set5 = hstack((school_state_one_hot_x_train, categories_one_hot_x_train, sub_categories_one_hot_x_train,\\\n",
        "            project_grade_category_one_hot_x_train, teacher_prefix_one_hot_x_train,\\\n",
        "            quantity_standardized_x_train, teacher_prev_projects_standardized_x_train, price_standardized_x_train,\\\n",
        "            neg_standardized_x_train, neu_standardized_x_train, pos_standardized_x_train, compound_standardized_x_train,\\\n",
        "            titlewc_standardized_x_train, essaywc_standardized_x_train ))\n",
        "  \n",
        "# X_val_set5 = hstack((school_state_one_hot_x_val, categories_one_hot_x_val, sub_categories_one_hot_x_val,\\\n",
        "#             project_grade_category_one_hot_x_val, teacher_prefix_one_hot_x_val,\\\n",
        "#             quantity_standardized_x_val, teacher_prev_projects_standardized_x_val, price_standardized_x_val,\\\n",
        "#             neg_standardized_x_val, neu_standardized_x_val, pos_standardized_x_val, compound_standardized_x_val,\\\n",
        "#             titlewc_standardized_x_val, essaywc_standardized_x_val ))\n",
        "\n",
        "X_test_set5 = hstack((school_state_one_hot_x_test, categories_one_hot_x_test, sub_categories_one_hot_x_test,\\\n",
        "            project_grade_category_one_hot_x_test, teacher_prefix_one_hot_x_test,\\\n",
        "            quantity_standardized_x_test, teacher_prev_projects_standardized_x_test, price_standardized_x_test,\\\n",
        "            neg_standardized_x_test, neu_standardized_x_test, pos_standardized_x_test, compound_standardized_x_test,\\\n",
        "            titlewc_standardized_x_test, essaywc_standardized_x_test ))\n",
        "\n",
        "print(\"x_train {0} | y_train {1} \".format(X_train_set5.shape , y_train.shape))\n",
        "#print(\"x_val   {0} | y_val   {1} \".format(X_val_set5.shape , y_val.shape))\n",
        "print(\"x_test  {0} | y_test  {1} \".format(X_test_set5.shape , y_test.shape))"
      ],
      "execution_count": 58,
      "outputs": [
        {
          "output_type": "stream",
          "text": [
            "x_train (87398, 109) | y_train (87398,) \n",
            "x_test  (21850, 109) | y_test  (21850,) \n"
          ],
          "name": "stdout"
        }
      ]
    },
    {
      "cell_type": "markdown",
      "metadata": {
        "id": "EDbdwrJ7oUH1",
        "colab_type": "text"
      },
      "source": [
        "# Assignment 7: SVM"
      ]
    },
    {
      "cell_type": "markdown",
      "metadata": {
        "id": "sKc9KmNQoUH2",
        "colab_type": "text"
      },
      "source": [
        "<ol>\n",
        "    <li><strong>[Task-1] Apply Support Vector Machines(SGDClassifier with hinge loss: Linear SVM) on these feature sets</strong>\n",
        "        <ul>\n",
        "            <li><font color='red'>Set 1</font>: categorical, numerical features + project_title(BOW) + preprocessed_eassay (BOW)</li>\n",
        "            <li><font color='red'>Set 2</font>: categorical, numerical features + project_title(TFIDF)+  preprocessed_eassay (TFIDF)</li>\n",
        "            <li><font color='red'>Set 3</font>: categorical, numerical features + project_title(AVG W2V)+  preprocessed_eassay (AVG W2V)</li>\n",
        "            <li><font color='red'>Set 4</font>: categorical, numerical features + project_title(TFIDF W2V)+  preprocessed_eassay (TFIDF W2V)</li>        </ul>\n",
        "    </li>\n",
        "    <br>\n",
        "    <li><strong>The hyper paramter tuning (best alpha in range [10^-4 to 10^4], and the best penalty among 'l1', 'l2')</strong>\n",
        "        <ul>\n",
        "    <li>Find the best hyper parameter which will give the maximum <a href='https://www.appliedaicourse.com/course/applied-ai-course-online/lessons/receiver-operating-characteristic-curve-roc-curve-and-auc-1/'>AUC</a> value</li>\n",
        "    <li>Find the best hyper paramter using k-fold cross validation or simple cross validation data</li>\n",
        "    <li>Use gridsearch cv or randomsearch cv or you can also write your own for loops to do this task of hyperparameter tuning\n",
        "        </ul>\n",
        "            </li>\n",
        "    <br>\n",
        "    <li><strong>Representation of results</strong>\n",
        "        <ul>\n",
        "    <li>You need to plot the performance of model both on train data and cross validation data for each hyper parameter, like shown in the figure.\n",
        "    <img src='train_cv_auc.JPG' width=300px></li>\n",
        "    <li>Once after you found the best hyper parameter, you need to train your model with it, and find the AUC on test data and plot the ROC curve on both train and test.\n",
        "    <img src='train_test_auc.JPG' width=300px></li>\n",
        "    <li>Along with plotting ROC curve, you need to print the <a href='https://www.appliedaicourse.com/course/applied-ai-course-online/lessons/confusion-matrix-tpr-fpr-fnr-tnr-1/'>confusion matrix</a> with predicted and original labels of test data points. Please visualize your confusion matrices using <a href='https://seaborn.pydata.org/generated/seaborn.heatmap.html'>seaborn heatmaps.\n",
        "    <img src='confusion_matrix.png' width=300px></li>\n",
        "        </ul>\n",
        "    </li>\n",
        "    <br>\n",
        "    <li><strong>[Task-2] Apply the Support Vector Machines on these features by finding the best hyper paramter as suggested in step 2 and step 3</strong>\n",
        "        <ul>\n",
        "    <li> Consider these set of features <font color='red'> Set 5 :</font>\n",
        "            <ul>\n",
        "                <li><strong>school_state</strong> : categorical data</li>\n",
        "                <li><strong>clean_categories</strong> : categorical data</li>\n",
        "                <li><strong>clean_subcategories</strong> : categorical data</li>\n",
        "                <li><strong>project_grade_category</strong> :categorical data</li>\n",
        "                <li><strong>teacher_prefix</strong> : categorical data</li>\n",
        "                <li><strong>quantity</strong> : numerical data</li>\n",
        "                <li><strong>teacher_number_of_previously_posted_projects</strong> : numerical data</li>\n",
        "                <li><strong>price</strong> : numerical data</li>\n",
        "                <li><strong>sentiment score's of each of the essay</strong> : numerical data</li>\n",
        "                <li><strong>number of words in the title</strong> : numerical data</li>\n",
        "                <li><strong>number of words in the combine essays</strong> : numerical data</li>\n",
        "                <li><strong>Apply <a href='http://scikit-learn.org/stable/modules/generated/sklearn.decomposition.TruncatedSVD.html'>TruncatedSVD</a> on <a href='https://scikit-learn.org/stable/modules/generated/sklearn.feature_extraction.text.TfidfVectorizer.html'>TfidfVectorizer</a> of essay text, choose the number of components (`n_components`) using <a href='https://www.appliedaicourse.com/course/applied-ai-course-online/lessons/pca-code-example-using-non-visualization/'>elbow method</a></strong> : numerical data</li>\n",
        "            </ul>\n",
        "         <br>\n",
        "    </li>\n",
        "    <br>\n",
        "    <li><strong>Conclusion</strong>\n",
        "        <ul>\n",
        "    <li>You need to summarize the results at the end of the notebook, summarize it in the table format. To print out a table please refer to this prettytable library<a href='http://zetcode.com/python/prettytable/'>  link</a> \n",
        "        <img src='summary.JPG' width=400px>\n",
        "    </li>\n",
        "        </ul>\n",
        "</ol>"
      ]
    },
    {
      "cell_type": "markdown",
      "metadata": {
        "id": "zgdnjthToUH2",
        "colab_type": "text"
      },
      "source": [
        "<h4><font color='red'>Note: Data Leakage</font></h4>\n",
        "\n",
        "1. There will be an issue of data-leakage if you vectorize the entire data and then split it into train/cv/test.\n",
        "2. To avoid the issue of data-leakage, make sure to split your data first and then vectorize it. \n",
        "3. While vectorizing your data, apply the method fit_transform() on you train data, and apply the method transform() on cv/test data.\n",
        "4. For more details please go through this <a href='https://soundcloud.com/applied-ai-course/leakage-bow-and-tfidf'>link.</a>"
      ]
    },
    {
      "cell_type": "markdown",
      "metadata": {
        "id": "__AbIboVoUH3",
        "colab_type": "text"
      },
      "source": [
        "<h1>2. Support Vector Machines </h1>"
      ]
    },
    {
      "cell_type": "markdown",
      "metadata": {
        "id": "vMxruDG7oUH3",
        "colab_type": "text"
      },
      "source": [
        "<h2>2.1 Splitting data into Train and cross validation(or test): Stratified Sampling</h2>"
      ]
    },
    {
      "cell_type": "code",
      "metadata": {
        "id": "vc9jEpzzoUH4",
        "colab_type": "code",
        "colab": {}
      },
      "source": [
        "# please write all the code with proper documentation, and proper titles for each subsection\n",
        "# go through documentations and blogs before you start coding\n",
        "# first figure out what to do, and then think about how to do.\n",
        "# reading and understanding error messages will be very much helpfull in debugging your code\n",
        "# when you plot any graph make sure you use \n",
        "    # a. Title, that describes your plot, this will be very helpful to the reader\n",
        "    # b. Legends if needed\n",
        "    # c. X-axis label\n",
        "    # d. Y-axis label"
      ],
      "execution_count": 0,
      "outputs": []
    },
    {
      "cell_type": "markdown",
      "metadata": {
        "id": "RXh9o-rOoUH5",
        "colab_type": "text"
      },
      "source": [
        "<h2>2.2 Make Data Model Ready: encoding numerical, categorical features</h2>"
      ]
    },
    {
      "cell_type": "code",
      "metadata": {
        "id": "80ha3YnqoUH5",
        "colab_type": "code",
        "colab": {}
      },
      "source": [
        "# please write all the code with proper documentation, and proper titles for each subsection\n",
        "# go through documentations and blogs before you start coding \n",
        "# first figure out what to do, and then think about how to do.\n",
        "# reading and understanding error messages will be very much helpfull in debugging your code\n",
        "# make sure you featurize train and test data separatly\n",
        "\n",
        "# when you plot any graph make sure you use \n",
        "    # a. Title, that describes your plot, this will be very helpful to the reader\n",
        "    # b. Legends if needed\n",
        "    # c. X-axis label\n",
        "    # d. Y-axis label"
      ],
      "execution_count": 0,
      "outputs": []
    },
    {
      "cell_type": "markdown",
      "metadata": {
        "id": "Ya1V6mLSoUH7",
        "colab_type": "text"
      },
      "source": [
        "<h2>2.3 Make Data Model Ready: encoding eassay, and project_title</h2>"
      ]
    },
    {
      "cell_type": "code",
      "metadata": {
        "id": "aKrh3dwvoUH7",
        "colab_type": "code",
        "colab": {}
      },
      "source": [
        "# please write all the code with proper documentation, and proper titles for each subsection\n",
        "# go through documentations and blogs before you start coding\n",
        "# first figure out what to do, and then think about how to do.\n",
        "# reading and understanding error messages will be very much helpfull in debugging your code\n",
        "# make sure you featurize train and test data separatly\n",
        "\n",
        "# when you plot any graph make sure you use \n",
        "    # a. Title, that describes your plot, this will be very helpful to the reader\n",
        "    # b. Legends if needed\n",
        "    # c. X-axis label\n",
        "    # d. Y-axis label"
      ],
      "execution_count": 0,
      "outputs": []
    },
    {
      "cell_type": "markdown",
      "metadata": {
        "id": "4IolabGIoUH9",
        "colab_type": "text"
      },
      "source": [
        "<h2>2.4 Appling Support Vector Machines on different kind of featurization as mentioned in the instructions</h2>\n",
        "\n",
        "<br>Apply Support Vector Machines on different kind of featurization as mentioned in the instructions\n",
        "<br> For Every model that you work on make sure you do the step 2 and step 3 of instrucations"
      ]
    },
    {
      "cell_type": "code",
      "metadata": {
        "id": "0IBXizg6oUH9",
        "colab_type": "code",
        "colab": {}
      },
      "source": [
        "# please write all the code with proper documentation, and proper titles for each subsection\n",
        "# go through documentations and blogs before you start coding\n",
        "# first figure out what to do, and then think about how to do.\n",
        "# reading and understanding error messages will be very much helpfull in debugging your code\n",
        "# when you plot any graph make sure you use \n",
        "    # a. Title, that describes your plot, this will be very helpful to the reader\n",
        "    # b. Legends if needed\n",
        "    # c. X-axis label\n",
        "    # d. Y-axis label\n",
        "\n",
        "from sklearn import svm\n",
        "from sklearn.linear_model import SGDClassifier\n",
        "from sklearn.calibration import CalibratedClassifierCV\n",
        "from sklearn.model_selection import GridSearchCV\n",
        "from sklearn.metrics import confusion_matrix, roc_auc_score"
      ],
      "execution_count": 0,
      "outputs": []
    },
    {
      "cell_type": "markdown",
      "metadata": {
        "id": "sCpYd5_dbEqL",
        "colab_type": "text"
      },
      "source": [
        "### 2.4.1 SGDClassifier on set1\n",
        "SET1 : categorical, numerical features + project_title(BOW) + preprocessed_eassay(BOW)"
      ]
    },
    {
      "cell_type": "code",
      "metadata": {
        "id": "InubB1j0bDT9",
        "colab_type": "code",
        "outputId": "87a18eae-a0ec-44c0-f063-60984e1805f8",
        "colab": {
          "base_uri": "https://localhost:8080/",
          "height": 51
        }
      },
      "source": [
        "print(\"x_train {0} | y_train {1} \".format(X_train_set1.shape , y_train.shape))\n",
        "#print(\"x_val   {0} | y_val   {1} \".format(X_val_set1.shape , y_val.shape))\n",
        "print(\"x_test  {0} | y_test  {1} \".format(X_test_set1.shape , y_test.shape))"
      ],
      "execution_count": 70,
      "outputs": [
        {
          "output_type": "stream",
          "text": [
            "x_train (87398, 19510) | y_train (87398,) \n",
            "x_test  (21850, 19510) | y_test  (21850,) \n"
          ],
          "name": "stdout"
        }
      ]
    },
    {
      "cell_type": "code",
      "metadata": {
        "id": "s_QkPIwLbrIe",
        "colab_type": "code",
        "outputId": "0f49b365-98b8-4a23-a1d0-96eaaedd91bc",
        "colab": {
          "base_uri": "https://localhost:8080/",
          "height": 323
        }
      },
      "source": [
        "parameters = {'alpha':[0.0001,0.001,0.01,0.1,1,10,100,1000,10000], 'penalty':['l1','l2']}\n",
        "sgd_model = SGDClassifier(loss=\"hinge\", penalty='l2',alpha=0.0001, class_weight=\"balanced\", random_state=28)\n",
        "\n",
        "grid1 = GridSearchCV(sgd_model, param_grid=parameters, scoring=\"roc_auc\" ,cv=3 , return_train_score=True)\n",
        "grid1.fit(X_train_set1, y_train)"
      ],
      "execution_count": 71,
      "outputs": [
        {
          "output_type": "execute_result",
          "data": {
            "text/plain": [
              "GridSearchCV(cv=3, error_score='raise-deprecating',\n",
              "             estimator=SGDClassifier(alpha=0.0001, average=False,\n",
              "                                     class_weight='balanced',\n",
              "                                     early_stopping=False, epsilon=0.1,\n",
              "                                     eta0=0.0, fit_intercept=True,\n",
              "                                     l1_ratio=0.15, learning_rate='optimal',\n",
              "                                     loss='hinge', max_iter=1000,\n",
              "                                     n_iter_no_change=5, n_jobs=None,\n",
              "                                     penalty='l2', power_t=0.5, random_state=28,\n",
              "                                     shuffle=True, tol=0.001,\n",
              "                                     validation_fraction=0.1, verbose=0,\n",
              "                                     warm_start=False),\n",
              "             iid='warn', n_jobs=None,\n",
              "             param_grid={'alpha': [0.0001, 0.001, 0.01, 0.1, 1, 10, 100, 1000,\n",
              "                                   10000],\n",
              "                         'penalty': ['l1', 'l2']},\n",
              "             pre_dispatch='2*n_jobs', refit=True, return_train_score=True,\n",
              "             scoring='roc_auc', verbose=0)"
            ]
          },
          "metadata": {
            "tags": []
          },
          "execution_count": 71
        }
      ]
    },
    {
      "cell_type": "code",
      "metadata": {
        "id": "Vf9w_cJ8Dqx2",
        "colab_type": "code",
        "outputId": "9b2a5aa3-66ed-4d4e-a119-bcb7c42bc687",
        "colab": {
          "base_uri": "https://localhost:8080/",
          "height": 153
        }
      },
      "source": [
        "print(grid1.best_score_)\n",
        "print(grid1.best_params_)\n",
        "\n",
        "print(grid1.cv_results_[\"mean_train_score\"])\n",
        "print(grid1.cv_results_[\"mean_test_score\"])"
      ],
      "execution_count": 72,
      "outputs": [
        {
          "output_type": "stream",
          "text": [
            "0.7326812050867217\n",
            "{'alpha': 0.01, 'penalty': 'l2'}\n",
            "[0.80887564 0.91253061 0.72544123 0.86852808 0.66364028 0.80024107\n",
            " 0.54019473 0.73585469 0.5        0.67897369 0.5        0.624143\n",
            " 0.5        0.62414268 0.5        0.62414289 0.5        0.62414289]\n",
            "[0.63994556 0.67469197 0.69858087 0.71672709 0.65949806 0.73268121\n",
            " 0.53935138 0.71258953 0.5        0.6710688  0.5        0.62056031\n",
            " 0.5        0.62056039 0.5        0.62056064 0.5        0.62056064]\n"
          ],
          "name": "stdout"
        }
      ]
    },
    {
      "cell_type": "code",
      "metadata": {
        "id": "Vh9jQ4YO-Xqz",
        "colab_type": "code",
        "colab": {
          "base_uri": "https://localhost:8080/",
          "height": 51
        },
        "outputId": "6875d392-c9bf-4967-9a08-390c2ba4db52"
      },
      "source": [
        "#for L1 penalty extract even indices from train cv scores\n",
        "evens=range(0,len(grid1.cv_results_[\"mean_train_score\"]),2)\n",
        "#for L2 penalty extract odd indices from train cv scores\n",
        "odds=range(1,len(grid1.cv_results_[\"mean_train_score\"]),2)\n",
        "print(evens,\"\\n\",odds)"
      ],
      "execution_count": 73,
      "outputs": [
        {
          "output_type": "stream",
          "text": [
            "range(0, 18, 2) \n",
            " range(1, 18, 2)\n"
          ],
          "name": "stdout"
        }
      ]
    },
    {
      "cell_type": "code",
      "metadata": {
        "id": "DXcLRiECPIM5",
        "colab_type": "code",
        "outputId": "de77d1a7-0c11-4b02-d26e-b11292898509",
        "colab": {
          "base_uri": "https://localhost:8080/",
          "height": 299
        }
      },
      "source": [
        "#https://stackoverflow.com/questions/43434958/how-do-i-plot-a-semilog-plot-in-python\n",
        "plt.semilogx(parameters[\"alpha\"] , [grid1.cv_results_[\"mean_train_score\"][i] for i in odds] , label='Train AUC', marker='o')\n",
        "plt.semilogx(parameters[\"alpha\"] , [grid1.cv_results_[\"mean_test_score\"][i] for i in odds], label='CV AUC', marker='o')\n",
        "plt.legend()\n",
        "plt.xlabel(\"alpha & penalty=L2\")\n",
        "plt.ylabel(\"AUC\")\n",
        "plt.title(\"AUC v/s 'alpha & penalty' using BOW\")\n",
        "plt.show()"
      ],
      "execution_count": 74,
      "outputs": [
        {
          "output_type": "display_data",
          "data": {
            "image/png": "[encoded data removed]",
            "text/plain": [
              "<Figure size 432x288 with 1 Axes>"
            ]
          },
          "metadata": {
            "tags": []
          }
        }
      ]
    },
    {
      "cell_type": "markdown",
      "metadata": {
        "id": "oMTN3qxSs55G",
        "colab_type": "text"
      },
      "source": [
        "#### Running SGD with best params on features(set1)"
      ]
    },
    {
      "cell_type": "code",
      "metadata": {
        "id": "KSAZITPos5Yq",
        "colab_type": "code",
        "outputId": "2447782f-07cb-4f42-8eee-5051fff087cf",
        "colab": {
          "base_uri": "https://localhost:8080/",
          "height": 34
        }
      },
      "source": [
        "grid1.best_params_"
      ],
      "execution_count": 75,
      "outputs": [
        {
          "output_type": "execute_result",
          "data": {
            "text/plain": [
              "{'alpha': 0.01, 'penalty': 'l2'}"
            ]
          },
          "metadata": {
            "tags": []
          },
          "execution_count": 75
        }
      ]
    },
    {
      "cell_type": "code",
      "metadata": {
        "id": "KHf8s-mls5Vz",
        "colab_type": "code",
        "outputId": "22d96d21-3fe3-4361-cd2d-45c9697ee4cf",
        "colab": {
          "base_uri": "https://localhost:8080/",
          "height": 51
        }
      },
      "source": [
        "%%time\n",
        "sgd_model1 = SGDClassifier(loss=\"hinge\", penalty=grid1.best_params_[\"penalty\"], alpha=grid1.best_params_[\"alpha\"],\\\n",
        "                           class_weight=\"balanced\", random_state=28, n_jobs=-1)\n",
        "sgd_model1.fit(X_train_set1, y_train)\n",
        "#https://stackoverflow.com/questions/55250963/how-to-get-probabilities-for-sgdclassifier-linearsvm\n",
        "calibrator1 = CalibratedClassifierCV(sgd_model1, cv='prefit')\n",
        "calibrator1.fit(X_train_set1, y_train)\n",
        "\n",
        "train_fpr, train_tpr, thresholds = roc_curve(y_train, calibrator1.predict_proba(X_train_set1)[:,1])\n",
        "#val_fpr, val_tpr, thresholds = roc_curve(y_val, lr_model1.predict_proba(X_val_set1)[:,1])\n",
        "test_fpr, test_tpr, thresholds = roc_curve(y_test, calibrator1.predict_proba(X_test_set1)[:,1])"
      ],
      "execution_count": 76,
      "outputs": [
        {
          "output_type": "stream",
          "text": [
            "CPU times: user 3.29 s, sys: 1.13 s, total: 4.42 s\n",
            "Wall time: 3.1 s\n"
          ],
          "name": "stdout"
        }
      ]
    },
    {
      "cell_type": "code",
      "metadata": {
        "id": "RjGDkNd7s5RR",
        "colab_type": "code",
        "outputId": "e5432861-3b3c-47d0-96a8-40317e13abff",
        "colab": {
          "base_uri": "https://localhost:8080/",
          "height": 295
        }
      },
      "source": [
        "plt.plot(train_fpr, train_tpr, label=\"train AUC = %0.2f\"% auc(train_fpr, train_tpr))\n",
        "#plt.plot(val_fpr, val_tpr, label=\"cv AUC = %0.2f\"%auc(val_fpr, val_tpr))\n",
        "plt.plot([0,1],[0,1], marker='o', linestyle='dashed', linewidth=2)\n",
        "plt.plot(test_fpr, test_tpr, label=\"test AUC = %0.2f\"%auc(test_fpr, test_tpr))\n",
        "plt.legend()\n",
        "plt.xlabel(\"FPR\")\n",
        "plt.ylabel(\"TPR\")\n",
        "plt.title(\"ROC PLOTS\")\n",
        "plt.show()"
      ],
      "execution_count": 77,
      "outputs": [
        {
          "output_type": "display_data",
          "data": {
            "image/png": "[encoded data removed]",
            "text/plain": [
              "<Figure size 432x288 with 1 Axes>"
            ]
          },
          "metadata": {
            "tags": []
          }
        }
      ]
    },
    {
      "cell_type": "code",
      "metadata": {
        "id": "lk_YH2uas5D_",
        "colab_type": "code",
        "outputId": "a3d739a9-3689-4691-c28d-d8e4d8f24704",
        "colab": {
          "base_uri": "https://localhost:8080/",
          "height": 281
        }
      },
      "source": [
        "#https://stackoverflow.com/questions/38082602/plotting-multiple-different-plots-in-one-figure-using-seaborn\n",
        "#https://stackoverflow.com/questions/35572000/how-can-i-plot-a-confusion-matrix\n",
        "#https://stackoverflow.com/questions/29647749/seaborn-showing-scientific-notation-in-heatmap-for-3-digit-numbers\n",
        "\n",
        "fig, axs = plt.subplots(ncols=2, figsize=(10,4))\n",
        "#train data\n",
        "data = confusion_matrix(y_train, sgd_model1.predict(X_train_set1))\n",
        "df_cm = pd.DataFrame(data, columns=[0,1], index = [0,1])\n",
        "axs[0].set_title(\"train - confusion matrix\")\n",
        "sns.heatmap(df_cm, annot=True,ax=axs[0], fmt='d')\n",
        "\n",
        "# # #cv data\n",
        "# data = confusion_matrix(y_val, sgd_model1.predict(X_val_set1))\n",
        "# df_cm = pd.DataFrame(data, columns=[0,1], index = [0,1])\n",
        "# axs[1].set_title(\"CV - confusion matrix\")\n",
        "# sns.heatmap(df_cm, annot=True,ax=axs[1], fmt='d')\n",
        "\n",
        "#test data\n",
        "data = confusion_matrix(y_test, sgd_model1.predict(X_test_set1))\n",
        "df_cm = pd.DataFrame(data, columns=[0,1], index = [0,1])\n",
        "axs[1].set_title(\"test - Confusion matrix\")\n",
        "sns.heatmap(df_cm, annot=True,ax=axs[1], fmt='d')\n",
        "\n",
        "plt.show()"
      ],
      "execution_count": 64,
      "outputs": [
        {
          "output_type": "display_data",
          "data": {
            "image/png": "[encoded data removed]",
            "text/plain": [
              "<Figure size 720x288 with 4 Axes>"
            ]
          },
          "metadata": {
            "tags": []
          }
        }
      ]
    },
    {
      "cell_type": "code",
      "metadata": {
        "id": "PKd_LR-f00fO",
        "colab_type": "code",
        "colab": {}
      },
      "source": [
        ""
      ],
      "execution_count": 0,
      "outputs": []
    },
    {
      "cell_type": "markdown",
      "metadata": {
        "id": "iATet0L6K-aE",
        "colab_type": "text"
      },
      "source": [
        "### 2.4.2 SGDClassifier on set2\n",
        "SET2 : categorical, numerical features + project_title(TFIDF)+ preprocessed_eassay (TFIDF)"
      ]
    },
    {
      "cell_type": "code",
      "metadata": {
        "id": "CM0U6DIDDqr8",
        "colab_type": "code",
        "outputId": "b9225024-f5e9-4389-c3b3-25ff1579ed78",
        "colab": {
          "base_uri": "https://localhost:8080/",
          "height": 51
        }
      },
      "source": [
        "print(\"x_train {0} | y_train {1} \".format(X_train_set2.shape , y_train.shape))\n",
        "# print(\"x_val   {0} | y_val   {1} \".format(X_val_set2.shape , y_val.shape))\n",
        "print(\"x_test  {0} | y_test  {1} \".format(X_test_set2.shape , y_test.shape))"
      ],
      "execution_count": 78,
      "outputs": [
        {
          "output_type": "stream",
          "text": [
            "x_train (87398, 19510) | y_train (87398,) \n",
            "x_test  (21850, 19510) | y_test  (21850,) \n"
          ],
          "name": "stdout"
        }
      ]
    },
    {
      "cell_type": "code",
      "metadata": {
        "colab_type": "code",
        "id": "72X4E-GL1VwN",
        "colab": {
          "base_uri": "https://localhost:8080/",
          "height": 323
        },
        "outputId": "ff537829-1fa8-4e2e-8b30-cdbc353f55c0"
      },
      "source": [
        "parameters = {'alpha':[0.0001,0.001,0.01,0.1,1,10,100,1000,10000], 'penalty':['l1','l2']}\n",
        "sgd_model = SGDClassifier(loss=\"hinge\", penalty='l2',alpha=0.0001, class_weight=\"balanced\",random_state=28)\n",
        "\n",
        "grid2 = GridSearchCV(sgd_model, param_grid=parameters, scoring=\"roc_auc\" ,cv=3 , return_train_score=True)\n",
        "grid2.fit(X_train_set2, y_train)"
      ],
      "execution_count": 79,
      "outputs": [
        {
          "output_type": "execute_result",
          "data": {
            "text/plain": [
              "GridSearchCV(cv=3, error_score='raise-deprecating',\n",
              "             estimator=SGDClassifier(alpha=0.0001, average=False,\n",
              "                                     class_weight='balanced',\n",
              "                                     early_stopping=False, epsilon=0.1,\n",
              "                                     eta0=0.0, fit_intercept=True,\n",
              "                                     l1_ratio=0.15, learning_rate='optimal',\n",
              "                                     loss='hinge', max_iter=1000,\n",
              "                                     n_iter_no_change=5, n_jobs=None,\n",
              "                                     penalty='l2', power_t=0.5, random_state=28,\n",
              "                                     shuffle=True, tol=0.001,\n",
              "                                     validation_fraction=0.1, verbose=0,\n",
              "                                     warm_start=False),\n",
              "             iid='warn', n_jobs=None,\n",
              "             param_grid={'alpha': [0.0001, 0.001, 0.01, 0.1, 1, 10, 100, 1000,\n",
              "                                   10000],\n",
              "                         'penalty': ['l1', 'l2']},\n",
              "             pre_dispatch='2*n_jobs', refit=True, return_train_score=True,\n",
              "             scoring='roc_auc', verbose=0)"
            ]
          },
          "metadata": {
            "tags": []
          },
          "execution_count": 79
        }
      ]
    },
    {
      "cell_type": "code",
      "metadata": {
        "colab_type": "code",
        "id": "Lke36lFo1VwV",
        "colab": {
          "base_uri": "https://localhost:8080/",
          "height": 153
        },
        "outputId": "941310be-3a05-41a6-ce7d-65fa83db1207"
      },
      "source": [
        "print(grid2.best_score_)\n",
        "print(grid2.best_params_)\n",
        "\n",
        "print(grid2.cv_results_[\"mean_train_score\"])\n",
        "print(grid2.cv_results_[\"mean_test_score\"])"
      ],
      "execution_count": 80,
      "outputs": [
        {
          "output_type": "stream",
          "text": [
            "0.7209931721965634\n",
            "{'alpha': 0.0001, 'penalty': 'l1'}\n",
            "[0.7615521  0.8364624  0.67590636 0.74102353 0.61172959 0.65108916\n",
            " 0.5        0.62337878 0.5        0.62764801 0.5        0.62766366\n",
            " 0.5        0.62766359 0.5        0.62766359 0.5        0.62766359]\n",
            "[0.72099317 0.72066108 0.67077574 0.70459546 0.60907224 0.64194796\n",
            " 0.5        0.62094657 0.5        0.62597627 0.5        0.6259463\n",
            " 0.5        0.62594613 0.5        0.62594613 0.5        0.62594613]\n"
          ],
          "name": "stdout"
        }
      ]
    },
    {
      "cell_type": "code",
      "metadata": {
        "colab_type": "code",
        "id": "_dbcm_cV1VwZ",
        "colab": {}
      },
      "source": [
        "#for L1 penalty extract even indices from train cv scores\n",
        "evens=range(0,len(grid2.cv_results_[\"mean_train_score\"]),2)\n",
        "#for L2 penalty extract odd indices from train cv scores\n",
        "odds=range(1,len(grid2.cv_results_[\"mean_train_score\"]),2)"
      ],
      "execution_count": 0,
      "outputs": []
    },
    {
      "cell_type": "code",
      "metadata": {
        "id": "nZwNw7x0OcFW",
        "colab_type": "code",
        "colab": {
          "base_uri": "https://localhost:8080/",
          "height": 299
        },
        "outputId": "d50901c6-2bbb-4c01-b6d3-b31494a398c8"
      },
      "source": [
        "#https://stackoverflow.com/questions/43434958/how-do-i-plot-a-semilog-plot-in-python\n",
        "plt.semilogx(parameters[\"alpha\"] , [grid2.cv_results_[\"mean_train_score\"][i] for i in evens] , label='Train AUC', marker='o')\n",
        "plt.semilogx(parameters[\"alpha\"] , [grid2.cv_results_[\"mean_test_score\"][i] for i in evens], label='CV AUC', marker='o')\n",
        "plt.legend()\n",
        "plt.xlabel(\"alpha & penalty=L1\")\n",
        "plt.ylabel(\"AUC\")\n",
        "plt.title(\"AUC v/s 'alpha & penalty' using TFIDF\")\n",
        "plt.show()"
      ],
      "execution_count": 82,
      "outputs": [
        {
          "output_type": "display_data",
          "data": {
            "image/png": "[encoded data removed]",
            "text/plain": [
              "<Figure size 432x288 with 1 Axes>"
            ]
          },
          "metadata": {
            "tags": []
          }
        }
      ]
    },
    {
      "cell_type": "markdown",
      "metadata": {
        "id": "Wt5-hnPT3jtw",
        "colab_type": "text"
      },
      "source": [
        "#### Running SGD with best params on features(set2)"
      ]
    },
    {
      "cell_type": "code",
      "metadata": {
        "id": "va949LcStWhy",
        "colab_type": "code",
        "colab": {
          "base_uri": "https://localhost:8080/",
          "height": 34
        },
        "outputId": "beec94f3-cab9-4d01-8ff9-4d9b6484dfa7"
      },
      "source": [
        "grid2.best_params_"
      ],
      "execution_count": 83,
      "outputs": [
        {
          "output_type": "execute_result",
          "data": {
            "text/plain": [
              "{'alpha': 0.0001, 'penalty': 'l1'}"
            ]
          },
          "metadata": {
            "tags": []
          },
          "execution_count": 83
        }
      ]
    },
    {
      "cell_type": "code",
      "metadata": {
        "id": "SIpqk3wptXlI",
        "colab_type": "code",
        "outputId": "e62b3aa1-021f-4a8b-88d5-ed784b97d386",
        "colab": {
          "base_uri": "https://localhost:8080/",
          "height": 51
        }
      },
      "source": [
        "%%time\n",
        "sgd_model2 = SGDClassifier(loss=\"hinge\", penalty=grid2.best_params_[\"penalty\"] ,alpha=grid2.best_params_[\"alpha\"], \\\n",
        "                           class_weight=\"balanced\", random_state=28, n_jobs=-1)\n",
        "sgd_model2.fit(X_train_set2, y_train)\n",
        "#https://stackoverflow.com/questions/55250963/how-to-get-probabilities-for-sgdclassifier-linearsvm\n",
        "calibrator2 = CalibratedClassifierCV(sgd_model2, cv='prefit')\n",
        "calibrator2.fit(X_train_set2, y_train)\n",
        "\n",
        "train_fpr, train_tpr, thresholds = roc_curve(y_train, calibrator2.predict_proba(X_train_set2)[:,1])\n",
        "#val_fpr, val_tpr, thresholds = roc_curve(y_val, lr_model1.predict_proba(X_val_set2)[:,1])\n",
        "test_fpr, test_tpr, thresholds = roc_curve(y_test, calibrator2.predict_proba(X_test_set2)[:,1])"
      ],
      "execution_count": 84,
      "outputs": [
        {
          "output_type": "stream",
          "text": [
            "CPU times: user 4.76 s, sys: 979 ms, total: 5.74 s\n",
            "Wall time: 4.6 s\n"
          ],
          "name": "stdout"
        }
      ]
    },
    {
      "cell_type": "code",
      "metadata": {
        "id": "YFFt9W9swfhV",
        "colab_type": "code",
        "outputId": "fcc38368-30ef-406c-e6d6-e77ee8c5ac30",
        "colab": {
          "base_uri": "https://localhost:8080/",
          "height": 295
        }
      },
      "source": [
        "plt.plot(train_fpr, train_tpr, label=\"train AUC = %0.2f\"% auc(train_fpr, train_tpr))\n",
        "#plt.plot(val_fpr, val_tpr, label=\"cv AUC = %0.2f\"%auc(val_fpr, val_tpr))\n",
        "plt.plot([0,1],[0,1], marker='o', linestyle='dashed', linewidth=2)\n",
        "plt.plot(test_fpr, test_tpr, label=\"test AUC = %0.2f\"%auc(test_fpr, test_tpr))\n",
        "plt.legend()\n",
        "plt.xlabel(\"FPR\")\n",
        "plt.ylabel(\"TPR\")\n",
        "plt.title(\"ROC PLOT\")\n",
        "plt.show() "
      ],
      "execution_count": 85,
      "outputs": [
        {
          "output_type": "display_data",
          "data": {
            "image/png": "[encoded data removed]",
            "text/plain": [
              "<Figure size 432x288 with 1 Axes>"
            ]
          },
          "metadata": {
            "tags": []
          }
        }
      ]
    },
    {
      "cell_type": "code",
      "metadata": {
        "id": "iRQGWtnptXZY",
        "colab_type": "code",
        "outputId": "b1fa568e-6548-4f2a-c215-4dd82afd0827",
        "colab": {
          "base_uri": "https://localhost:8080/",
          "height": 281
        }
      },
      "source": [
        "#https://stackoverflow.com/questions/38082602/plotting-multiple-different-plots-in-one-figure-using-seaborn\n",
        "#https://stackoverflow.com/questions/35572000/how-can-i-plot-a-confusion-matrix\n",
        "#https://stackoverflow.com/questions/29647749/seaborn-showing-scientific-notation-in-heatmap-for-3-digit-numbers\n",
        "\n",
        "fig, axs = plt.subplots(ncols=2, figsize=(10,4))\n",
        "#train data\n",
        "data = confusion_matrix(y_train, sgd_model2.predict(X_train_set2))\n",
        "df_cm = pd.DataFrame(data, columns=[0,1], index = [0,1])\n",
        "axs[0].set_title(\"train - confusion matrix\")\n",
        "sns.heatmap(df_cm, annot=True,ax=axs[0], fmt='d')\n",
        "\n",
        "# #cv data\n",
        "# data = confusion_matrix(y_val, sgd_model2.predict(X_val_set2))\n",
        "# df_cm = pd.DataFrame(data, columns=[0,1], index = [0,1])\n",
        "# axs[1].set_title(\"CV - confusion matrix\")\n",
        "# sns.heatmap(df_cm, annot=True,ax=axs[1], fmt='d')\n",
        "\n",
        "#test data\n",
        "data = confusion_matrix(y_test, sgd_model2.predict(X_test_set2))\n",
        "df_cm = pd.DataFrame(data, columns=[0,1], index = [0,1])\n",
        "axs[1].set_title(\"test - Confusion matrix\")\n",
        "sns.heatmap(df_cm, annot=True,ax=axs[1], fmt='d')\n",
        "\n",
        "plt.show()"
      ],
      "execution_count": 86,
      "outputs": [
        {
          "output_type": "display_data",
          "data": {
            "image/png": "[encoded data removed]",
            "text/plain": [
              "<Figure size 720x288 with 4 Axes>"
            ]
          },
          "metadata": {
            "tags": []
          }
        }
      ]
    },
    {
      "cell_type": "markdown",
      "metadata": {
        "id": "6iIxsqKTi8KT",
        "colab_type": "text"
      },
      "source": [
        "### 2.4.3 SGDClassifier on set3\n",
        "SET3 : categorical, numerical features + project_title(AVG W2V)+ preprocessed_eassay (AVG W2V)"
      ]
    },
    {
      "cell_type": "code",
      "metadata": {
        "id": "OVP5pDmzOcAm",
        "colab_type": "code",
        "outputId": "5ac566b4-45e0-49b7-c86a-1580d530eda7",
        "colab": {
          "base_uri": "https://localhost:8080/",
          "height": 51
        }
      },
      "source": [
        "print(\"x_train {0} | y_train {1} \".format(X_train_set3.shape , y_train.shape))\n",
        "#print(\"x_val   {0} | y_val   {1} \".format(X_val_set3.shape , y_val.shape))\n",
        "print(\"x_test  {0} | y_test  {1} \".format(X_test_set3.shape , y_test.shape))"
      ],
      "execution_count": 0,
      "outputs": [
        {
          "output_type": "stream",
          "text": [
            "x_train (87398, 303) | y_train (87398,) \n",
            "x_test  (21850, 303) | y_test  (21850,) \n"
          ],
          "name": "stdout"
        }
      ]
    },
    {
      "cell_type": "code",
      "metadata": {
        "id": "oj-ieHq4k4fz",
        "colab_type": "code",
        "outputId": "c53f090f-74af-4e87-e125-abc78f6dc6e5",
        "colab": {
          "base_uri": "https://localhost:8080/",
          "height": 323
        }
      },
      "source": [
        "parameters = {'alpha':[0.00001,0.0001,0.001,0.01,0.1,1,10,100,1000,10000], 'penalty':['l1','l2']}\n",
        "sgd_model = SGDClassifier(loss=\"hinge\", penalty='l2',alpha=0.0001, random_state=28,class_weight =\"balanced\")\n",
        "\n",
        "grid3 = GridSearchCV(sgd_model, param_grid=parameters, scoring=\"roc_auc\" ,cv=3 , return_train_score=True)\n",
        "grid3.fit(X_train_set3, y_train)"
      ],
      "execution_count": 0,
      "outputs": [
        {
          "output_type": "execute_result",
          "data": {
            "text/plain": [
              "GridSearchCV(cv=3, error_score='raise-deprecating',\n",
              "             estimator=SGDClassifier(alpha=0.0001, average=False,\n",
              "                                     class_weight='balanced',\n",
              "                                     early_stopping=False, epsilon=0.1,\n",
              "                                     eta0=0.0, fit_intercept=True,\n",
              "                                     l1_ratio=0.15, learning_rate='optimal',\n",
              "                                     loss='hinge', max_iter=1000,\n",
              "                                     n_iter_no_change=5, n_jobs=None,\n",
              "                                     penalty='l2', power_t=0.5, random_state=28,\n",
              "                                     shuffle=True, tol=0.001,\n",
              "                                     validation_fraction=0.1, verbose=0,\n",
              "                                     warm_start=False),\n",
              "             iid='warn', n_jobs=None,\n",
              "             param_grid={'alpha': [1e-05, 0.0001, 0.001, 0.01, 0.1, 1, 10, 100,\n",
              "                                   1000, 10000],\n",
              "                         'penalty': ['l1', 'l2']},\n",
              "             pre_dispatch='2*n_jobs', refit=True, return_train_score=True,\n",
              "             scoring='roc_auc', verbose=0)"
            ]
          },
          "metadata": {
            "tags": []
          },
          "execution_count": 55
        }
      ]
    },
    {
      "cell_type": "code",
      "metadata": {
        "id": "D8vSe57lljkz",
        "colab_type": "code",
        "outputId": "82fbe8e7-ace3-4e5c-ab55-1b1ffb46e391",
        "colab": {
          "base_uri": "https://localhost:8080/",
          "height": 187
        }
      },
      "source": [
        "print(grid3.best_score_)\n",
        "print(grid3.best_params_)\n",
        "                                           \n",
        "print(grid3.cv_results_[\"mean_train_score\"])\n",
        "print(grid3.cv_results_[\"mean_test_score\"])"
      ],
      "execution_count": 0,
      "outputs": [
        {
          "output_type": "stream",
          "text": [
            "0.7053307095740908\n",
            "{'alpha': 0.01, 'penalty': 'l2'}\n",
            "[0.66579611 0.64528304 0.70088945 0.70168252 0.7120611  0.71690204\n",
            " 0.67645925 0.71411276 0.5        0.68799271 0.5        0.63391873\n",
            " 0.5        0.62727209 0.5        0.62726828 0.5        0.62726833\n",
            " 0.5        0.62726833]\n",
            "[0.65736295 0.63912429 0.687674   0.68942988 0.70309217 0.70265312\n",
            " 0.67352107 0.70533071 0.5        0.68222794 0.5        0.63081068\n",
            " 0.5        0.62432968 0.5        0.62432624 0.5        0.62432629\n",
            " 0.5        0.62432629]\n"
          ],
          "name": "stdout"
        }
      ]
    },
    {
      "cell_type": "code",
      "metadata": {
        "id": "7bmyRNTdJZ25",
        "colab_type": "code",
        "colab": {}
      },
      "source": [
        " #for L1 penalty extract even indices from train cv scores\n",
        "evens=range(0,len(grid3.cv_results_[\"mean_train_score\"]),2)\n",
        "#for L2 penalty extract odd indices from train cv scores\n",
        "odds=range(1,len(grid3.cv_results_[\"mean_train_score\"]),2)"
      ],
      "execution_count": 0,
      "outputs": []
    },
    {
      "cell_type": "code",
      "metadata": {
        "id": "V8mrD7GtlWPY",
        "colab_type": "code",
        "outputId": "90ebb516-5977-4800-d687-18f9c91dd89c",
        "colab": {
          "base_uri": "https://localhost:8080/",
          "height": 299
        }
      },
      "source": [
        "#https://stackoverflow.com/questions/43434958/how-do-i-plot-a-semilog-plot-in-python\n",
        "plt.semilogx(parameters[\"alpha\"] , [grid3.cv_results_[\"mean_train_score\"][i] for i in odds] , label='Train AUC', marker='o')\n",
        "plt.semilogx(parameters[\"alpha\"] , [grid3.cv_results_[\"mean_test_score\"][i] for i in odds], label='CV AUC', marker='o')\n",
        "plt.legend()\n",
        "plt.xlabel(\"alpha & penalty=L2\")\n",
        "plt.ylabel(\"AUC\")\n",
        "plt.title(\"AUC v/s 'alpha & penalty' using BOW\")\n",
        "plt.show()"
      ],
      "execution_count": 0,
      "outputs": [
        {
          "output_type": "display_data",
          "data": {
            "image/png": "[encoded data removed]",
            "text/plain": [
              "<Figure size 432x288 with 1 Axes>"
            ]
          },
          "metadata": {
            "tags": []
          }
        }
      ]
    },
    {
      "cell_type": "markdown",
      "metadata": {
        "id": "aGv8CsqbgpH9",
        "colab_type": "text"
      },
      "source": [
        "#### Running SGD with best params on features(set3)"
      ]
    },
    {
      "cell_type": "code",
      "metadata": {
        "id": "Q0vFanaAgqBk",
        "colab_type": "code",
        "outputId": "512122f7-e361-4734-8fa8-32bb18fc4625",
        "colab": {
          "base_uri": "https://localhost:8080/",
          "height": 34
        }
      },
      "source": [
        "grid3.best_params_"
      ],
      "execution_count": 0,
      "outputs": [
        {
          "output_type": "execute_result",
          "data": {
            "text/plain": [
              "{'alpha': 0.01, 'penalty': 'l2'}"
            ]
          },
          "metadata": {
            "tags": []
          },
          "execution_count": 59
        }
      ]
    },
    {
      "cell_type": "code",
      "metadata": {
        "id": "begZL8osxF24",
        "colab_type": "code",
        "outputId": "9031e52a-8ae9-4879-e81e-c97a8cd30ef8",
        "colab": {
          "base_uri": "https://localhost:8080/",
          "height": 51
        }
      },
      "source": [
        "%%time\n",
        "sgd_model3 = SGDClassifier(loss=\"hinge\", penalty=grid3.best_params_[\"penalty\"] ,alpha=grid3.best_params_[\"alpha\"], \\\n",
        "                           class_weight=\"balanced\", random_state=28, n_jobs=-1)\n",
        "sgd_model3.fit(X_train_set3, y_train)\n",
        "#https://stackoverflow.com/questions/55250963/how-to-get-probabilities-for-sgdclassifier-linearsvm\n",
        "calibrator3 = CalibratedClassifierCV(sgd_model3, cv='prefit')\n",
        "calibrator3.fit(X_train_set3, y_train)\n",
        "\n",
        "train_fpr, train_tpr, thresholds = roc_curve(y_train, calibrator3.predict_proba(X_train_set3)[:,1])\n",
        "#val_fpr, val_tpr, thresholds = roc_curve(y_val, lr_model1.predict_proba(X_val_set2)[:,1])\n",
        "test_fpr, test_tpr, thresholds = roc_curve(y_test, calibrator3.predict_proba(X_test_set3)[:,1])"
      ],
      "execution_count": 0,
      "outputs": [
        {
          "output_type": "stream",
          "text": [
            "CPU times: user 2.89 s, sys: 354 ms, total: 3.24 s\n",
            "Wall time: 2.82 s\n"
          ],
          "name": "stdout"
        }
      ]
    },
    {
      "cell_type": "code",
      "metadata": {
        "id": "qAReIUdhxFnK",
        "colab_type": "code",
        "outputId": "217ecaf7-e0d3-4c03-fcbe-5fec6262ba3e",
        "colab": {
          "base_uri": "https://localhost:8080/",
          "height": 295
        }
      },
      "source": [
        "plt.plot(train_fpr, train_tpr, label=\"train AUC = %0.2f\"% auc(train_fpr, train_tpr))\n",
        "#plt.plot(val_fpr, val_tpr, label=\"cv AUC = %0.2f\"%auc(val_fpr, val_tpr))\n",
        "plt.plot([0,1],[0,1], marker='o', linestyle='dashed', linewidth=2)\n",
        "plt.plot(test_fpr, test_tpr, label=\"test AUC = %0.2f\"%auc(test_fpr, test_tpr))\n",
        "plt.legend()\n",
        "plt.xlabel(\"FPR\")\n",
        "plt.ylabel(\"TPR\")\n",
        "plt.title(\"ROC PLOTS\")\n",
        "plt.show()"
      ],
      "execution_count": 0,
      "outputs": [
        {
          "output_type": "display_data",
          "data": {
            "image/png": "[encoded data removed]",
            "text/plain": [
              "<Figure size 432x288 with 1 Axes>"
            ]
          },
          "metadata": {
            "tags": []
          }
        }
      ]
    },
    {
      "cell_type": "code",
      "metadata": {
        "id": "2YtQF7ZnxFjF",
        "colab_type": "code",
        "outputId": "daa3cc51-fc66-4588-e74d-5c8d187e5a88",
        "colab": {
          "base_uri": "https://localhost:8080/",
          "height": 281
        }
      },
      "source": [
        "#https://stackoverflow.com/questions/38082602/plotting-multiple-different-plots-in-one-figure-using-seaborn\n",
        "#https://stackoverflow.com/questions/35572000/how-can-i-plot-a-confusion-matrix\n",
        "#https://stackoverflow.com/questions/29647749/seaborn-showing-scientific-notation-in-heatmap-for-3-digit-numbers\n",
        "\n",
        "fig, axs = plt.subplots(ncols=2, figsize=(10,4))\n",
        "#train data\n",
        "data = confusion_matrix(y_train, sgd_model3.predict(X_train_set3))\n",
        "df_cm = pd.DataFrame(data, columns=[0,1], index = [0,1])\n",
        "axs[0].set_title(\"train - confusion matrix\")\n",
        "sns.heatmap(df_cm, annot=True,ax=axs[0], fmt='d')\n",
        "\n",
        "# #cv data\n",
        "# data = confusion_matrix(y_val, lr_model3.predict(X_val_set3))\n",
        "# df_cm = pd.DataFrame(data, columns=[0,1], index = [0,1])\n",
        "# axs[1].set_title(\"CV - confusion matrix\")\n",
        "# sns.heatmap(df_cm, annot=True,ax=axs[1], fmt='d')\n",
        "\n",
        "#test data\n",
        "data = confusion_matrix(y_test, sgd_model3.predict(X_test_set3))\n",
        "df_cm = pd.DataFrame(data, columns=[0,1], index = [0,1])\n",
        "axs[1].set_title(\"test - Confusion matrix\")\n",
        "sns.heatmap(df_cm, annot=True,ax=axs[1], fmt='d')\n",
        "\n",
        "plt.show()"
      ],
      "execution_count": 0,
      "outputs": [
        {
          "output_type": "display_data",
          "data": {
            "image/png": "[encoded data removed]",
            "text/plain": [
              "<Figure size 720x288 with 4 Axes>"
            ]
          },
          "metadata": {
            "tags": []
          }
        }
      ]
    },
    {
      "cell_type": "markdown",
      "metadata": {
        "id": "ZWWGcS3SpzCq",
        "colab_type": "text"
      },
      "source": [
        "### 2.4.4 SGD Classifier on set4\n",
        "SET4 : categorical, numerical features + project_title(TFIDF W2V)+ preprocessed_essay (TFIDF W2V)"
      ]
    },
    {
      "cell_type": "code",
      "metadata": {
        "id": "MPE4Hly0lWD3",
        "colab_type": "code",
        "outputId": "bb2185a6-a293-4b69-fb24-fc418cf9090f",
        "colab": {
          "base_uri": "https://localhost:8080/",
          "height": 51
        }
      },
      "source": [
        "print(\"x_train {0} | y_train {1} \".format(X_train_set4.shape , y_train.shape))\n",
        "#print(\"x_val   {0} | y_val   {1} \".format(X_val_set4.shape , y_val.shape))\n",
        "print(\"x_test  {0} | y_test  {1} \".format(X_test_set4.shape , y_test.shape))"
      ],
      "execution_count": 0,
      "outputs": [
        {
          "output_type": "stream",
          "text": [
            "x_train (87398, 303) | y_train (87398,) \n",
            "x_test  (21850, 303) | y_test  (21850,) \n"
          ],
          "name": "stdout"
        }
      ]
    },
    {
      "cell_type": "code",
      "metadata": {
        "id": "y5uR4NDfqaLq",
        "colab_type": "code",
        "outputId": "8842e353-f717-4bb3-8185-38e4bd4a3dc8",
        "colab": {
          "base_uri": "https://localhost:8080/",
          "height": 323
        }
      },
      "source": [
        "parameters = {'alpha':[0.0001,0.001,0.01,0.1,1,10,100,1000,10000], 'penalty':['l1','l2']}\n",
        "sgd_model = SGDClassifier(loss=\"hinge\", penalty='l2', alpha=0.0001, class_weight=\"balanced\", random_state=28)\n",
        "\n",
        "grid4 = GridSearchCV(sgd_model, param_grid=parameters, scoring=\"roc_auc\" ,cv=3 , return_train_score=True)\n",
        "grid4.fit(X_train_set4, y_train)"
      ],
      "execution_count": 0,
      "outputs": [
        {
          "output_type": "execute_result",
          "data": {
            "text/plain": [
              "GridSearchCV(cv=3, error_score='raise-deprecating',\n",
              "             estimator=SGDClassifier(alpha=0.0001, average=False,\n",
              "                                     class_weight='balanced',\n",
              "                                     early_stopping=False, epsilon=0.1,\n",
              "                                     eta0=0.0, fit_intercept=True,\n",
              "                                     l1_ratio=0.15, learning_rate='optimal',\n",
              "                                     loss='hinge', max_iter=1000,\n",
              "                                     n_iter_no_change=5, n_jobs=None,\n",
              "                                     penalty='l2', power_t=0.5, random_state=28,\n",
              "                                     shuffle=True, tol=0.001,\n",
              "                                     validation_fraction=0.1, verbose=0,\n",
              "                                     warm_start=False),\n",
              "             iid='warn', n_jobs=None,\n",
              "             param_grid={'alpha': [0.0001, 0.001, 0.01, 0.1, 1, 10, 100, 1000,\n",
              "                                   10000],\n",
              "                         'penalty': ['l1', 'l2']},\n",
              "             pre_dispatch='2*n_jobs', refit=True, return_train_score=True,\n",
              "             scoring='roc_auc', verbose=0)"
            ]
          },
          "metadata": {
            "tags": []
          },
          "execution_count": 66
        }
      ]
    },
    {
      "cell_type": "code",
      "metadata": {
        "id": "vVcFXvnOvoYX",
        "colab_type": "code",
        "outputId": "f5a9fadd-c508-4391-d0ea-3d83075db5dc",
        "colab": {
          "base_uri": "https://localhost:8080/",
          "height": 153
        }
      },
      "source": [
        "print(grid4.best_score_)\n",
        "print(grid4.best_params_)\n",
        "\n",
        "print(grid4.cv_results_[\"mean_train_score\"])\n",
        "print(grid4.cv_results_[\"mean_test_score\"])"
      ],
      "execution_count": 0,
      "outputs": [
        {
          "output_type": "stream",
          "text": [
            "0.6375989678267342\n",
            "{'alpha': 0.01, 'penalty': 'l2'}\n",
            "[0.61529047 0.61467968 0.63770781 0.64203112 0.63371596 0.64944413\n",
            " 0.5        0.64168009 0.5        0.60921742 0.5        0.60589522\n",
            " 0.5        0.6058945  0.5        0.6058945  0.5        0.6058945 ]\n",
            "[0.6068333  0.60650117 0.62695771 0.62687223 0.62847253 0.63759897\n",
            " 0.5        0.63412886 0.5        0.60552749 0.5        0.60213611\n",
            " 0.5        0.60213669 0.5        0.60213669 0.5        0.60213669]\n"
          ],
          "name": "stdout"
        }
      ]
    },
    {
      "cell_type": "code",
      "metadata": {
        "id": "BuuTzm0l__rV",
        "colab_type": "code",
        "colab": {}
      },
      "source": [
        "#for L1 penalty extract even indices from train cv scores\n",
        "evens=range(0,len(grid4.cv_results_[\"mean_train_score\"]),2)\n",
        "#for L2 penalty extract odd indices from train cv scores\n",
        "odds=range(1,len(grid4.cv_results_[\"mean_train_score\"]),2)"
      ],
      "execution_count": 0,
      "outputs": []
    },
    {
      "cell_type": "code",
      "metadata": {
        "id": "z7nuqB8dvxBN",
        "colab_type": "code",
        "outputId": "8eaf3092-8513-4508-f5d6-af67e5c10e2f",
        "colab": {
          "base_uri": "https://localhost:8080/",
          "height": 299
        }
      },
      "source": [
        "#https://stackoverflow.com/questions/43434958/how-do-i-plot-a-semilog-plot-in-python\n",
        "plt.semilogx(parameters[\"alpha\"] , [grid4.cv_results_[\"mean_train_score\"][i] for i in odds] , label='Train AUC', marker='o')\n",
        "plt.semilogx(parameters[\"alpha\"] , [grid4.cv_results_[\"mean_test_score\"][i] for i in odds], label='CV AUC', marker='o')\n",
        "plt.legend()\n",
        "plt.xlabel(\"alpha & penalty=L2\")\n",
        "plt.ylabel(\"AUC\")\n",
        "plt.title(\"AUC v/s 'alpha & penalty' using BOW\")\n",
        "plt.show()"
      ],
      "execution_count": 0,
      "outputs": [
        {
          "output_type": "display_data",
          "data": {
            "image/png": "[encoded data removed]",
            "text/plain": [
              "<Figure size 432x288 with 1 Axes>"
            ]
          },
          "metadata": {
            "tags": []
          }
        }
      ]
    },
    {
      "cell_type": "markdown",
      "metadata": {
        "id": "JwF5KLeFynlx",
        "colab_type": "text"
      },
      "source": [
        "#### Running SGDClassifier with best params on features(set4)"
      ]
    },
    {
      "cell_type": "code",
      "metadata": {
        "id": "aqN5kUI4vw7x",
        "colab_type": "code",
        "outputId": "b4e21190-bc11-41a8-9a6d-cb352c74a4ae",
        "colab": {
          "base_uri": "https://localhost:8080/",
          "height": 34
        }
      },
      "source": [
        "grid4.best_params_"
      ],
      "execution_count": 0,
      "outputs": [
        {
          "output_type": "execute_result",
          "data": {
            "text/plain": [
              "{'alpha': 0.01, 'penalty': 'l2'}"
            ]
          },
          "metadata": {
            "tags": []
          },
          "execution_count": 78
        }
      ]
    },
    {
      "cell_type": "code",
      "metadata": {
        "id": "eOfUtkCXyv3W",
        "colab_type": "code",
        "outputId": "79711053-97a4-43ff-a60b-4bad5fc781de",
        "colab": {
          "base_uri": "https://localhost:8080/",
          "height": 51
        }
      },
      "source": [
        "%%time\n",
        "sgd_model4 = SGDClassifier(loss=\"hinge\", penalty=grid4.best_params_[\"penalty\"] ,alpha=grid4.best_params_[\"alpha\"], \\\n",
        "                           class_weight=\"balanced\", random_state=28, n_jobs=-1)\n",
        "sgd_model4.fit(X_train_set4, y_train)\n",
        "#https://stackoverflow.com/questions/55250963/how-to-get-probabilities-for-sgdclassifier-linearsvm\n",
        "calibrator4 = CalibratedClassifierCV(sgd_model4, cv='prefit')\n",
        "calibrator4.fit(X_train_set4, y_train)\n",
        "\n",
        "train_fpr, train_tpr, thresholds = roc_curve(y_train, calibrator4.predict_proba(X_train_set4)[:,1])\n",
        "#val_fpr, val_tpr, thresholds = roc_curve(y_val, lr_model1.predict_proba(X_val_set2)[:,1])\n",
        "test_fpr, test_tpr, thresholds = roc_curve(y_test, calibrator4.predict_proba(X_test_set4)[:,1])"
      ],
      "execution_count": 0,
      "outputs": [
        {
          "output_type": "stream",
          "text": [
            "CPU times: user 1.99 s, sys: 261 ms, total: 2.25 s\n",
            "Wall time: 1.96 s\n"
          ],
          "name": "stdout"
        }
      ]
    },
    {
      "cell_type": "code",
      "metadata": {
        "id": "yKFCi9IRyv0J",
        "colab_type": "code",
        "outputId": "08b1eb25-73ba-4782-cc9a-a18e93ce074c",
        "colab": {
          "base_uri": "https://localhost:8080/",
          "height": 295
        }
      },
      "source": [
        "plt.plot(train_fpr, train_tpr, label=\"train AUC = %0.2f\"% auc(train_fpr, train_tpr))\n",
        "#plt.plot(val_fpr, val_tpr, label=\"cv AUC = %0.2f\"%auc(val_fpr, val_tpr))\n",
        "plt.plot([0,1],[0,1], marker='o', linestyle='dashed', linewidth=2)\n",
        "plt.plot(test_fpr, test_tpr, label=\"test AUC = %0.2f\"%auc(test_fpr, test_tpr))\n",
        "plt.legend()\n",
        "plt.xlabel(\"FPR\")\n",
        "plt.ylabel(\"TPR\")\n",
        "plt.title(\"ROC PLOTS\")\n",
        "plt.show()"
      ],
      "execution_count": 0,
      "outputs": [
        {
          "output_type": "display_data",
          "data": {
            "image/png": "[encoded data removed]",
            "text/plain": [
              "<Figure size 432x288 with 1 Axes>"
            ]
          },
          "metadata": {
            "tags": []
          }
        }
      ]
    },
    {
      "cell_type": "code",
      "metadata": {
        "id": "64t2XyEdyvwB",
        "colab_type": "code",
        "outputId": "f0c4fca3-5200-44dd-d9fa-cfd89e48de35",
        "colab": {
          "base_uri": "https://localhost:8080/",
          "height": 281
        }
      },
      "source": [
        "#https://stackoverflow.com/questions/38082602/plotting-multiple-different-plots-in-one-figure-using-seaborn\n",
        "#https://stackoverflow.com/questions/35572000/how-can-i-plot-a-confusion-matrix\n",
        "#https://stackoverflow.com/questions/29647749/seaborn-showing-scientific-notation-in-heatmap-for-3-digit-numbers\n",
        "\n",
        "fig, axs = plt.subplots(ncols=2, figsize=(10,4))\n",
        "#train data\n",
        "data = confusion_matrix(y_train, sgd_model4.predict(X_train_set4))\n",
        "df_cm = pd.DataFrame(data, columns=[0,1], index = [0,1])\n",
        "axs[0].set_title(\"train - confusion matrix\")\n",
        "sns.heatmap(df_cm, annot=True,ax=axs[0], fmt='d')\n",
        "\n",
        "# #cv data\n",
        "# data = confusion_matrix(y_val, lr_model4.predict(X_val_set4))\n",
        "# df_cm = pd.DataFrame(data, columns=[0,1], index = [0,1])\n",
        "# axs[1].set_title(\"CV - confusion matrix\")\n",
        "# sns.heatmap(df_cm, annot=True,ax=axs[1], fmt='d')\n",
        "\n",
        "#test data\n",
        "data = confusion_matrix(y_test, sgd_model4.predict(X_test_set4))\n",
        "df_cm = pd.DataFrame(data, columns=[0,1], index = [0,1])\n",
        "axs[1].set_title(\"test - Confusion matrix\")\n",
        "sns.heatmap(df_cm, annot=True,ax=axs[1], fmt='d')\n",
        "\n",
        "plt.show()"
      ],
      "execution_count": 0,
      "outputs": [
        {
          "output_type": "display_data",
          "data": {
            "image/png": "[encoded data removed]",
            "text/plain": [
              "<Figure size 720x288 with 4 Axes>"
            ]
          },
          "metadata": {
            "tags": []
          }
        }
      ]
    },
    {
      "cell_type": "markdown",
      "metadata": {
        "id": "_T2l87JfoUH-",
        "colab_type": "text"
      },
      "source": [
        "<h2>2.5 Support Vector Machines with added Features `Set 5` </h2>"
      ]
    },
    {
      "cell_type": "code",
      "metadata": {
        "id": "1JBBsjAzoUH_",
        "colab_type": "code",
        "colab": {}
      },
      "source": [
        "# please write all the code with proper documentation, and proper titles for each subsection\n",
        "# go through documentations and blogs before you start coding\n",
        "# first figure out what to do, and then think about how to do.\n",
        "# reading and understanding error messages will be very much helpfull in debugging your code\n",
        "# when you plot any graph make sure you use \n",
        "    # a. Title, that describes your plot, this will be very helpful to the reader\n",
        "    # b. Legends if needed\n",
        "    # c. X-axis label\n",
        "    # d. Y-axis label"
      ],
      "execution_count": 0,
      "outputs": []
    },
    {
      "cell_type": "markdown",
      "metadata": {
        "id": "lgkgRS42fVRf",
        "colab_type": "text"
      },
      "source": [
        "#### Choosing no. of dimensions for essays_tfidf from elbow plot"
      ]
    },
    {
      "cell_type": "code",
      "metadata": {
        "id": "Idn9hFUNfUox",
        "colab_type": "code",
        "outputId": "db55506e-d511-4c21-e9aa-db8655705ec2",
        "colab": {
          "base_uri": "https://localhost:8080/",
          "height": 153
        }
      },
      "source": [
        "from sklearn.decomposition import TruncatedSVD\n",
        "no_of_components = [1000,2000,3000,4000,5000]\n",
        "explained_variance=[]\n",
        "for i in tqdm(no_of_components):\n",
        "  tsvd = TruncatedSVD(n_components=i, random_state=42)\n",
        "  tsvd.fit(text_tfidf_x_train)  #text_tfidf_x_train.shape\n",
        "  explained_variance.append(tsvd.explained_variance_ratio_.sum())\n",
        "  print(explained_variance)\n"
      ],
      "execution_count": 74,
      "outputs": [
        {
          "output_type": "stream",
          "text": [
            " 20%|██        | 1/5 [02:31<10:07, 151.88s/it]"
          ],
          "name": "stderr"
        },
        {
          "output_type": "stream",
          "text": [
            "[0.5529491608436439]\n"
          ],
          "name": "stdout"
        },
        {
          "output_type": "stream",
          "text": [
            "\r 40%|████      | 2/5 [08:45<10:55, 218.54s/it]"
          ],
          "name": "stderr"
        },
        {
          "output_type": "stream",
          "text": [
            "[0.5529491608436439, 0.7070488725263842]\n"
          ],
          "name": "stdout"
        },
        {
          "output_type": "stream",
          "text": [
            "\r 60%|██████    | 3/5 [19:40<11:38, 349.24s/it]"
          ],
          "name": "stderr"
        },
        {
          "output_type": "stream",
          "text": [
            "[0.5529491608436439, 0.7070488725263842, 0.7942143371591927]\n"
          ],
          "name": "stdout"
        },
        {
          "output_type": "stream",
          "text": [
            "\r 80%|████████  | 4/5 [35:49<08:55, 535.35s/it]"
          ],
          "name": "stderr"
        },
        {
          "output_type": "stream",
          "text": [
            "[0.5529491608436439, 0.7070488725263842, 0.7942143371591927, 0.8500146903836614]\n"
          ],
          "name": "stdout"
        },
        {
          "output_type": "stream",
          "text": [
            "\r100%|██████████| 5/5 [58:43<00:00, 786.92s/it]"
          ],
          "name": "stderr"
        },
        {
          "output_type": "stream",
          "text": [
            "[0.5529491608436439, 0.7070488725263842, 0.7942143371591927, 0.8500146903836614, 0.8881885259950697]\n"
          ],
          "name": "stdout"
        },
        {
          "output_type": "stream",
          "text": [
            "\n"
          ],
          "name": "stderr"
        }
      ]
    },
    {
      "cell_type": "code",
      "metadata": {
        "id": "wgCBq0kMI64p",
        "colab_type": "code",
        "colab": {
          "base_uri": "https://localhost:8080/",
          "height": 295
        },
        "outputId": "b4aadb47-3c46-46b7-e3e4-dea095aada09"
      },
      "source": [
        "plt.plot(no_of_components, explained_variance)\n",
        "plt.xlabel(\"no. of components\")\n",
        "plt.ylabel(\"variance\")\n",
        "plt.title(\"no of components v/s variance\")\n",
        "plt.show()"
      ],
      "execution_count": 75,
      "outputs": [
        {
          "output_type": "display_data",
          "data": {
            "image/png": "[encoded data removed]",
            "text/plain": [
              "<Figure size 432x288 with 1 Axes>"
            ]
          },
          "metadata": {
            "tags": []
          }
        }
      ]
    },
    {
      "cell_type": "code",
      "metadata": {
        "colab_type": "code",
        "outputId": "914703ef-fa51-4656-ebbe-9eea5be6dd1c",
        "id": "0lSkG5g-B3oa",
        "colab": {
          "base_uri": "https://localhost:8080/",
          "height": 68
        }
      },
      "source": [
        "print(\"x_train {0} | y_train {1} \".format(X_train_set5.shape , y_train.shape))\n",
        "#print(\"x_val   {0} | y_val   {1} \".format(X_val_set5.shape , y_val.shape))\n",
        "print(\"x_test  {0} | y_test  {1} \".format(X_test_set5.shape , y_test.shape))\n",
        "\n",
        "#pick dimension that preserved atleast 80% variance\n",
        "X_train_set5 = hstack((X_train_set5,text_tfidf_x_train[:,:3100]))\n",
        "X_test_set5 = hstack((X_test_set5,text_tfidf_x_test[:,:3100]))\n",
        "X_train_set5.shape , X_test_set5.shape"
      ],
      "execution_count": 59,
      "outputs": [
        {
          "output_type": "stream",
          "text": [
            "x_train (87398, 109) | y_train (87398,) \n",
            "x_test  (21850, 109) | y_test  (21850,) \n"
          ],
          "name": "stdout"
        },
        {
          "output_type": "execute_result",
          "data": {
            "text/plain": [
              "((87398, 3209), (21850, 3209))"
            ]
          },
          "metadata": {
            "tags": []
          },
          "execution_count": 59
        }
      ]
    },
    {
      "cell_type": "code",
      "metadata": {
        "colab_type": "code",
        "outputId": "b0c71410-d842-49c6-acda-714583321145",
        "id": "pK7qT4dZB3oe",
        "colab": {
          "base_uri": "https://localhost:8080/",
          "height": 323
        }
      },
      "source": [
        "parameters = {'alpha':[0.0001,0.001,0.01,0.1,1,10,100,1000,10000], 'penalty':['l1','l2']}\n",
        "sgd_model = SGDClassifier(loss=\"hinge\", penalty='l2', alpha=0.0001, class_weight=\"balanced\", random_state=28)\n",
        "\n",
        "grid5 = GridSearchCV(sgd_model, param_grid=parameters, scoring=\"roc_auc\" ,cv=3 , return_train_score=True)\n",
        "grid5.fit(X_train_set5, y_train)"
      ],
      "execution_count": 60,
      "outputs": [
        {
          "output_type": "execute_result",
          "data": {
            "text/plain": [
              "GridSearchCV(cv=3, error_score='raise-deprecating',\n",
              "             estimator=SGDClassifier(alpha=0.0001, average=False,\n",
              "                                     class_weight='balanced',\n",
              "                                     early_stopping=False, epsilon=0.1,\n",
              "                                     eta0=0.0, fit_intercept=True,\n",
              "                                     l1_ratio=0.15, learning_rate='optimal',\n",
              "                                     loss='hinge', max_iter=1000,\n",
              "                                     n_iter_no_change=5, n_jobs=None,\n",
              "                                     penalty='l2', power_t=0.5, random_state=28,\n",
              "                                     shuffle=True, tol=0.001,\n",
              "                                     validation_fraction=0.1, verbose=0,\n",
              "                                     warm_start=False),\n",
              "             iid='warn', n_jobs=None,\n",
              "             param_grid={'alpha': [0.0001, 0.001, 0.01, 0.1, 1, 10, 100, 1000,\n",
              "                                   10000],\n",
              "                         'penalty': ['l1', 'l2']},\n",
              "             pre_dispatch='2*n_jobs', refit=True, return_train_score=True,\n",
              "             scoring='roc_auc', verbose=0)"
            ]
          },
          "metadata": {
            "tags": []
          },
          "execution_count": 60
        }
      ]
    },
    {
      "cell_type": "code",
      "metadata": {
        "colab_type": "code",
        "outputId": "a8b576b3-c84e-4e43-bf92-ea959b6c1f69",
        "id": "WJbP8GbUB3oi",
        "colab": {
          "base_uri": "https://localhost:8080/",
          "height": 153
        }
      },
      "source": [
        "print(grid5.best_score_)\n",
        "print(grid5.best_params_)\n",
        "\n",
        "print(grid5.cv_results_[\"mean_train_score\"])\n",
        "print(grid5.cv_results_[\"mean_test_score\"])"
      ],
      "execution_count": 61,
      "outputs": [
        {
          "output_type": "stream",
          "text": [
            "0.678489578473401\n",
            "{'alpha': 0.0001, 'penalty': 'l1'}\n",
            "[0.69201453 0.70076974 0.65926919 0.67159856 0.63583079 0.65051356\n",
            " 0.52213407 0.63824984 0.5        0.62503499 0.5        0.62620512\n",
            " 0.5        0.62620532 0.5        0.62620532 0.5        0.62620532]\n",
            "[0.67848958 0.67567457 0.656969   0.66408144 0.6349988  0.64654019\n",
            " 0.5238937  0.63678388 0.5        0.62408845 0.5        0.62515723\n",
            " 0.5        0.62515739 0.5        0.62515739 0.5        0.62515739]\n"
          ],
          "name": "stdout"
        }
      ]
    },
    {
      "cell_type": "code",
      "metadata": {
        "colab_type": "code",
        "id": "zB5vSth7B3ok",
        "colab": {}
      },
      "source": [
        "#for L1 penalty extract even indices from train cv scores\n",
        "evens=range(0,len(grid5.cv_results_[\"mean_train_score\"]),2)\n",
        "#for L2 penalty extract odd indices from train cv scores\n",
        "odds=range(1,len(grid5.cv_results_[\"mean_train_score\"]),2)"
      ],
      "execution_count": 0,
      "outputs": []
    },
    {
      "cell_type": "code",
      "metadata": {
        "colab_type": "code",
        "outputId": "6125a561-428f-4ca6-cfe9-3650ba5b9a19",
        "id": "CY582u-mB3on",
        "colab": {
          "base_uri": "https://localhost:8080/",
          "height": 299
        }
      },
      "source": [
        "#https://stackoverflow.com/questions/43434958/how-do-i-plot-a-semilog-plot-in-python\n",
        "plt.semilogx(parameters[\"alpha\"] , [grid5.cv_results_[\"mean_train_score\"][i] for i in evens] , label='Train AUC', marker='o')\n",
        "plt.semilogx(parameters[\"alpha\"] , [grid5.cv_results_[\"mean_test_score\"][i] for i in evens], label='CV AUC', marker='o')\n",
        "plt.legend()\n",
        "plt.xlabel(\"alpha & penalty=L1\")\n",
        "plt.ylabel(\"AUC\")\n",
        "plt.title(\"AUC v/s 'alpha & penalty' on set5\")\n",
        "plt.show()"
      ],
      "execution_count": 63,
      "outputs": [
        {
          "output_type": "display_data",
          "data": {
            "image/png": "[encoded data removed]",
            "text/plain": [
              "<Figure size 432x288 with 1 Axes>"
            ]
          },
          "metadata": {
            "tags": []
          }
        }
      ]
    },
    {
      "cell_type": "markdown",
      "metadata": {
        "colab_type": "text",
        "id": "55APEVvMB3op"
      },
      "source": [
        "#### Running SGDClassifier with best params on features(set5)"
      ]
    },
    {
      "cell_type": "code",
      "metadata": {
        "colab_type": "code",
        "outputId": "04492e30-3e60-4907-dc16-3c8fa539a134",
        "id": "gqWJTjCZB3op",
        "colab": {
          "base_uri": "https://localhost:8080/",
          "height": 34
        }
      },
      "source": [
        "grid5.best_params_"
      ],
      "execution_count": 64,
      "outputs": [
        {
          "output_type": "execute_result",
          "data": {
            "text/plain": [
              "{'alpha': 0.0001, 'penalty': 'l1'}"
            ]
          },
          "metadata": {
            "tags": []
          },
          "execution_count": 64
        }
      ]
    },
    {
      "cell_type": "code",
      "metadata": {
        "colab_type": "code",
        "outputId": "856a344f-21c8-4550-d4e5-345b5fb04626",
        "id": "efCjaJXpB3ou",
        "colab": {
          "base_uri": "https://localhost:8080/",
          "height": 51
        }
      },
      "source": [
        "%%time\n",
        "sgd_model5 = SGDClassifier(loss=\"hinge\", penalty=grid5.best_params_[\"penalty\"] ,alpha=grid5.best_params_[\"alpha\"], \\\n",
        "                           class_weight=\"balanced\", random_state=28, n_jobs=-1)\n",
        "sgd_model5.fit(X_train_set5, y_train)\n",
        "#https://stackoverflow.com/questions/55250963/how-to-get-probabilities-for-sgdclassifier-linearsvm\n",
        "calibrator5 = CalibratedClassifierCV(sgd_model5, cv='prefit')\n",
        "calibrator5.fit(X_train_set5, y_train)\n",
        "\n",
        "train_fpr, train_tpr, thresholds = roc_curve(y_train, calibrator5.predict_proba(X_train_set5)[:,1])\n",
        "#val_fpr, val_tpr, thresholds = roc_curve(y_val, lr_model1.predict_proba(X_val_set5)[:,1])\n",
        "test_fpr, test_tpr, thresholds = roc_curve(y_test, calibrator5.predict_proba(X_test_set5)[:,1])"
      ],
      "execution_count": 65,
      "outputs": [
        {
          "output_type": "stream",
          "text": [
            "CPU times: user 2.5 s, sys: 712 ms, total: 3.21 s\n",
            "Wall time: 2.39 s\n"
          ],
          "name": "stdout"
        }
      ]
    },
    {
      "cell_type": "code",
      "metadata": {
        "colab_type": "code",
        "outputId": "b7ac8624-0880-4c79-9742-64c35b252230",
        "id": "uOGMuVqFB3ow",
        "colab": {
          "base_uri": "https://localhost:8080/",
          "height": 295
        }
      },
      "source": [
        "plt.plot(train_fpr, train_tpr, label=\"train AUC = %0.2f\"% auc(train_fpr, train_tpr))\n",
        "#plt.plot(val_fpr, val_tpr, label=\"cv AUC = %0.2f\"%auc(val_fpr, val_tpr))\n",
        "plt.plot([0,1],[0,1], marker='o', linestyle='dashed', linewidth=2)\n",
        "plt.plot(test_fpr, test_tpr, label=\"test AUC = %0.2f\"%auc(test_fpr, test_tpr))\n",
        "plt.legend()\n",
        "plt.xlabel(\"FPR\")\n",
        "plt.ylabel(\"TPR\")\n",
        "plt.title(\"ROC PLOTS\")\n",
        "plt.show()"
      ],
      "execution_count": 66,
      "outputs": [
        {
          "output_type": "display_data",
          "data": {
            "image/png": "[encoded data removed]",
            "text/plain": [
              "<Figure size 432x288 with 1 Axes>"
            ]
          },
          "metadata": {
            "tags": []
          }
        }
      ]
    },
    {
      "cell_type": "code",
      "metadata": {
        "colab_type": "code",
        "outputId": "fc72fd27-8811-4c26-e29e-e22408e7e9f7",
        "id": "W6VWEJuCB3oy",
        "colab": {
          "base_uri": "https://localhost:8080/",
          "height": 281
        }
      },
      "source": [
        "#https://stackoverflow.com/questions/38082602/plotting-multiple-different-plots-in-one-figure-using-seaborn\n",
        "#https://stackoverflow.com/questions/35572000/how-can-i-plot-a-confusion-matrix\n",
        "#https://stackoverflow.com/questions/29647749/seaborn-showing-scientific-notation-in-heatmap-for-3-digit-numbers\n",
        "\n",
        "fig, axs = plt.subplots(ncols=2, figsize=(10,4))\n",
        "#train data\n",
        "data = confusion_matrix(y_train, sgd_model5.predict(X_train_set5))\n",
        "df_cm = pd.DataFrame(data, columns=[0,1], index = [0,1])\n",
        "axs[0].set_title(\"train - confusion matrix\")\n",
        "sns.heatmap(df_cm, annot=True,ax=axs[0], fmt='d')\n",
        "\n",
        "# #cv data\n",
        "# data = confusion_matrix(y_val, lr_model5.predict(X_val_set5))\n",
        "# df_cm = pd.DataFrame(data, columns=[0,1], index = [0,1])\n",
        "# axs[1].set_title(\"CV - confusion matrix\")\n",
        "# sns.heatmap(df_cm, annot=True,ax=axs[1], fmt='d')\n",
        "\n",
        "#test data\n",
        "data = confusion_matrix(y_test, sgd_model5.predict(X_test_set5))\n",
        "df_cm = pd.DataFrame(data, columns=[0,1], index = [0,1])\n",
        "axs[1].set_title(\"test - Confusion matrix\")\n",
        "sns.heatmap(df_cm, annot=True,ax=axs[1], fmt='d')\n",
        "\n",
        "plt.show()"
      ],
      "execution_count": 68,
      "outputs": [
        {
          "output_type": "display_data",
          "data": {
            "image/png": "[encoded data removed]",
            "text/plain": [
              "<Figure size 720x288 with 4 Axes>"
            ]
          },
          "metadata": {
            "tags": []
          }
        }
      ]
    },
    {
      "cell_type": "markdown",
      "metadata": {
        "id": "51CZPd61oUIA",
        "colab_type": "text"
      },
      "source": [
        "<h1>3. Conclusion</h1>"
      ]
    },
    {
      "cell_type": "code",
      "metadata": {
        "colab_type": "code",
        "id": "3g2CekK34yc3",
        "colab": {
          "base_uri": "https://localhost:8080/",
          "height": 170
        },
        "outputId": "7552d8fd-77d5-4001-836f-04e4da1fbab9"
      },
      "source": [
        "# Please compare all your models using Prettytable library\n",
        "#https://stackoverflow.com/questions/36423259/how-to-use-pretty-table-in-python-to-print-out-data-from-multiple-lists\n",
        "from prettytable import PrettyTable\n",
        "pt = PrettyTable([\"Features\",\"alpha\",\"penalty\",\"Train AUC\",\"Test AUC\"])\n",
        "pt.add_row([\"Set1\", \"0.01\", \"L2\",0.78, 0.73])\n",
        "pt.add_row([\"Set2\", \"0.0001\", \"L1\",  0.75, 0.72])\n",
        "pt.add_row([\"Set3\", \"0.01\", \"L2\", 0.72, 0.71])\n",
        "pt.add_row([\"Set4\", \"0.01\", \"L2\",  0.65, 0.64])\n",
        "pt.add_row([\"Set5\", \"0.0001\", \"L1\",  0.69, 0.67])\n",
        "print(pt)"
      ],
      "execution_count": 88,
      "outputs": [
        {
          "output_type": "stream",
          "text": [
            "+----------+--------+---------+-----------+----------+\n",
            "| Features | alpha  | penalty | Train AUC | Test AUC |\n",
            "+----------+--------+---------+-----------+----------+\n",
            "|   Set1   |  0.01  |    L2   |    0.78   |   0.73   |\n",
            "|   Set2   | 0.0001 |    L1   |    0.75   |   0.72   |\n",
            "|   Set3   |  0.01  |    L2   |    0.72   |   0.71   |\n",
            "|   Set4   |  0.01  |    L2   |    0.65   |   0.64   |\n",
            "|   Set5   | 0.0001 |    L1   |    0.69   |   0.67   |\n",
            "+----------+--------+---------+-----------+----------+\n"
          ],
          "name": "stdout"
        }
      ]
    },
    {
      "cell_type": "code",
      "metadata": {
        "id": "ImO-hXPymFxH",
        "colab_type": "code",
        "colab": {}
      },
      "source": [
        ""
      ],
      "execution_count": 0,
      "outputs": []
    }
  ]
}